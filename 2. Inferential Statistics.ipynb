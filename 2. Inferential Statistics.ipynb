{
 "cells": [
  {
   "cell_type": "markdown",
   "metadata": {},
   "source": [
    "# Inferential Statistics\n",
    "\n",
    "In this notebook, I will use inferential statistics to answer several questions about the credit card client default data set.\n",
    "\n",
    "The questions that I will try to answer are as follows:\n",
    "1. Is the proportion of defaults the same for men and women?\n",
    "2. Is age a significant predictor of default?\n",
    "3. Is credit limit a significant predictor of default?\n",
    "4. Is the ratio of $\\left(\\frac{\\text{bill amount}}{\\text{credit limit}}\\right)$ a significant predictor of default? Here, \"$\\text{bill amount}$\" stands for past credit card bill amounts.\n",
    "5. Is the ratio of $\\left(\\frac{\\text{bill amount} - \\text{pay amount}}{\\text{credit limit}}\\right)$ a significant predictor of default? \n",
    "\n",
    "In the process of answering question 6 and 7, we found it necessary to engineer some additional features.  At the end of this notebook, we will run a function that we have defined to create a new `.csv` file that contains our wrangled data along with the new features we engineer.\n"
   ]
  },
  {
   "cell_type": "code",
   "execution_count": 1,
   "metadata": {
    "collapsed": true
   },
   "outputs": [],
   "source": [
    "# Import libraries\n",
    "import os\n",
    "import sys\n",
    "import inspect\n",
    "\n",
    "import numpy as np\n",
    "import pandas as pd\n",
    "import matplotlib.pyplot as plt\n",
    "from matplotlib.ticker import FuncFormatter\n",
    "import seaborn as sns\n",
    "\n",
    "# Modify notebook settings\n",
    "%matplotlib inline\n",
    "sns.set_style(\"whitegrid\")\n",
    "pd.options.display.max_columns = 100"
   ]
  },
  {
   "cell_type": "markdown",
   "metadata": {
    "collapsed": true
   },
   "source": [
    "### Create paths to data file, append `src` directory to sys.path"
   ]
  },
  {
   "cell_type": "code",
   "execution_count": 2,
   "metadata": {
    "collapsed": true
   },
   "outputs": [],
   "source": [
    "# Create a variable for the project root directory\n",
    "proj_root = os.path.join(os.pardir)\n",
    "\n",
    "# Save path to the wrangled data file\n",
    "# \"dataset_wrangled.csv\"\n",
    "wrangled_data_file = os.path.join(proj_root,\n",
    "                                \"data\",\n",
    "                                \"interim\",\n",
    "                                \"dataset_wrangled.csv\")"
   ]
  },
  {
   "cell_type": "code",
   "execution_count": 3,
   "metadata": {
    "collapsed": true
   },
   "outputs": [],
   "source": [
    "# add the 'src' directory as one where we can import modules\n",
    "src_dir = os.path.join(proj_root, \"src\")\n",
    "sys.path.append(src_dir)"
   ]
  },
  {
   "cell_type": "markdown",
   "metadata": {},
   "source": [
    "### Read in wrangled data"
   ]
  },
  {
   "cell_type": "code",
   "execution_count": 4,
   "metadata": {
    "collapsed": true
   },
   "outputs": [],
   "source": [
    "# Read in the wrangled credit card client default data set.\n",
    "\n",
    "df_wrangled = pd.read_csv(wrangled_data_file,\n",
    "                          header=1, \n",
    "                          index_col=0)\n",
    "#df_wrangled.head()"
   ]
  },
  {
   "cell_type": "markdown",
   "metadata": {},
   "source": [
    "### Significance level ($\\alpha$)\n",
    "\n",
    "In all of the hypothesis tests in this notebook, we will use a significance level of $\\alpha = 0.05$."
   ]
  },
  {
   "cell_type": "code",
   "execution_count": 5,
   "metadata": {
    "collapsed": true
   },
   "outputs": [],
   "source": [
    "# Set alpha\n",
    "alpha = 0.05"
   ]
  },
  {
   "cell_type": "code",
   "execution_count": 6,
   "metadata": {
    "collapsed": true
   },
   "outputs": [],
   "source": [
    "# Set upper bound and lower bound of percentiles\n",
    "# for calculating confidence intervals, given alpha.\n",
    "lb = (alpha/2)\n",
    "ub = 1 - (alpha/2)\n",
    "bounds = [lb, ub]"
   ]
  },
  {
   "cell_type": "markdown",
   "metadata": {
    "collapsed": true
   },
   "source": [
    "### 1. Is the proportion of defaults the same for men and women?\n",
    "\n",
    "We want to test whether the proportion of defaults the same for men and women.\n",
    "\n",
    "Let $p_m$ represent the proportion of defaults for men.\n",
    "\n",
    "Let $p_w$ represent the proportion of defaults for women.\n",
    "\n",
    "Our null and alternative hypotheses are as follows:\n",
    "\n",
    "+ $H_0$: $p_m = p_w$\n",
    "\n",
    "+ $H_1$: $p_m \\neq p_w$\n",
    "\n"
   ]
  },
  {
   "cell_type": "code",
   "execution_count": 7,
   "metadata": {
    "collapsed": true
   },
   "outputs": [],
   "source": [
    "# Create a function to calculate the proportion of defaults by sex.\n",
    "def make_proportion_dict(df):\n",
    "    \"\"\"\n",
    "    Given a DataFrame, return a dictionary where sex labels\n",
    "    ('Male' and 'Female') are the keys and the proportion of \n",
    "    defaults are the values.\n",
    "    \"\"\"\n",
    "    output_dict = {'Male': df[df['SEX'] == 1]['default payment next month'].value_counts(normalize=True).loc[1],\n",
    "                   'Female': df[df['SEX'] == 2] ['default payment next month'].value_counts(normalize=True).loc[1]}\n",
    "    return output_dict"
   ]
  },
  {
   "cell_type": "code",
   "execution_count": 8,
   "metadata": {},
   "outputs": [
    {
     "data": {
      "text/plain": [
       "{'Female': 0.20776280918727916, 'Male': 0.24167227456258411}"
      ]
     },
     "execution_count": 8,
     "metadata": {},
     "output_type": "execute_result"
    }
   ],
   "source": [
    "make_proportion_dict(df_wrangled)"
   ]
  },
  {
   "cell_type": "code",
   "execution_count": 9,
   "metadata": {
    "collapsed": true
   },
   "outputs": [],
   "source": [
    "def resample(df, iters=1000):\n",
    "    list_m = []\n",
    "    list_w = []\n",
    "    n = len(df)\n",
    "    for i in range(iters):\n",
    "        resampled_df = df[['default payment next month', \n",
    "                           'SEX']].sample(n=n, replace=True)\n",
    "        proportions = make_proportion_dict(resampled_df)\n",
    "        list_m.append(proportions['Male'])\n",
    "        list_w.append(proportions['Female'])\n",
    "    prop_array_m = np.array(list_m)\n",
    "    prop_array_w = np.array(list_w)\n",
    "    return prop_array_m, prop_array_w "
   ]
  },
  {
   "cell_type": "code",
   "execution_count": 10,
   "metadata": {
    "collapsed": true
   },
   "outputs": [],
   "source": [
    "results_m, results_w = resample(df_wrangled, iters=1000)"
   ]
  },
  {
   "cell_type": "code",
   "execution_count": 11,
   "metadata": {},
   "outputs": [
    {
     "data": {
      "text/plain": [
       "<matplotlib.legend.Legend at 0x1148544a8>"
      ]
     },
     "execution_count": 11,
     "metadata": {},
     "output_type": "execute_result"
    },
    {
     "data": {
      "image/png": "[encoded data removed]",
      "text/plain": [
       "<matplotlib.figure.Figure at 0x114854dd8>"
      ]
     },
     "metadata": {},
     "output_type": "display_data"
    }
   ],
   "source": [
    "sns.distplot(results_m,\n",
    "             norm_hist=True, \n",
    "             label='Male')\n",
    "sns.distplot(results_w,\n",
    "             norm_hist=True, \n",
    "             label='Female')\n",
    "\n",
    "plt.xlabel('Proportion of Defaults')\n",
    "plt.legend()"
   ]
  },
  {
   "cell_type": "markdown",
   "metadata": {
    "collapsed": true
   },
   "source": [
    "We reject the null hypothesis that $p_m = p_w$"
   ]
  },
  {
   "cell_type": "markdown",
   "metadata": {},
   "source": [
    "### 2. Is age a significant predictor of default?\n",
    "\n",
    "We conduct a logistic regression where age is the predictor variable and default status is the target variable.\n",
    "\n",
    "We use the implementation of logistic regression in the `glm` package in the R language.  We chose to use `glm`'s implementation because it calculates the p-values associated with each regression coefficient. The logistic regression implemented in `scikit-learn` does not calculate these p-values. \n",
    "\n",
    "We use the `rpy2` Python library to call R from within Python."
   ]
  },
  {
   "cell_type": "code",
   "execution_count": 12,
   "metadata": {
    "collapsed": true
   },
   "outputs": [],
   "source": [
    "# Import modules\n",
    "from rpy2.robjects import FloatVector, Formula\n",
    "from rpy2.robjects.packages import importr\n",
    "# import glm from the source code\n",
    "import models.glm as glm"
   ]
  },
  {
   "cell_type": "code",
   "execution_count": 13,
   "metadata": {
    "collapsed": true
   },
   "outputs": [],
   "source": [
    "# Create robjects for X ('AGE'), \n",
    "# y ('default payment next month'), \n",
    "# regression formula, and the environment\n",
    "y = df_wrangled['default payment next month']\n",
    "X = df_wrangled['AGE']\n",
    "\n",
    "y_r = FloatVector(y)\n",
    "X_r = FloatVector(X)\n",
    "\n",
    "fmla = Formula('y_r ~ X_r')\n",
    "env = fmla.environment\n",
    "\n",
    "env['y_r'] = y_r\n",
    "env['X_r'] = X_r"
   ]
  },
  {
   "cell_type": "code",
   "execution_count": 14,
   "metadata": {},
   "outputs": [
    {
     "name": "stdout",
     "output_type": "stream",
     "text": [
      "Coefficients:\n",
      "             Estimate Std. Error z value Pr(>|z|)    \n",
      "(Intercept) -1.386982   0.055242 -25.107   <2e-16 ***\n",
      "X_r          0.003607   0.001499   2.406   0.0162 *  \n",
      "---\n",
      "\n",
      "(Dispersion parameter for binomial family taken to be 1)\n",
      "\n",
      "    Null deviance: 31705  on 29999  degrees of freedom\n",
      "Residual deviance: 31700  on 29998  degrees of freedom\n",
      "AIC: 31704\n",
      "\n",
      "Number of Fisher Scoring iterations: 4\n",
      "\n",
      "\n"
     ]
    }
   ],
   "source": [
    "glm_result = glm.logit_model(model='y_r ~ X_r')"
   ]
  },
  {
   "cell_type": "code",
   "execution_count": 15,
   "metadata": {
    "collapsed": true
   },
   "outputs": [],
   "source": [
    "p_val = 0.0162"
   ]
  },
  {
   "cell_type": "code",
   "execution_count": 16,
   "metadata": {},
   "outputs": [
    {
     "data": {
      "text/plain": [
       "True"
      ]
     },
     "execution_count": 16,
     "metadata": {},
     "output_type": "execute_result"
    }
   ],
   "source": [
    "p_val < alpha"
   ]
  },
  {
   "cell_type": "markdown",
   "metadata": {},
   "source": [
    "From these results, we see that the p-value for the regression coefficient of X_r  is 0.0162, which is less than $\\alpha = 0.05$.  Therefore, we conclude that age is a statistically significant predictor of default.\n",
    "\n",
    "The regression coefficient is positive, implying that the log-odds of default increase as age increases."
   ]
  },
  {
   "cell_type": "markdown",
   "metadata": {
    "collapsed": true
   },
   "source": [
    "### 3. Is credit limit a significant predictor of default?\n",
    "\n",
    "We conduct a logistic regression where credit limit is the predictor variable and default status is the target variable."
   ]
  },
  {
   "cell_type": "code",
   "execution_count": 17,
   "metadata": {
    "collapsed": true
   },
   "outputs": [],
   "source": [
    "# Create robjects for X ('LIMIT_BAL'), \n",
    "# y ('default payment next month'), \n",
    "# regression formula, and the environment\n",
    "y = df_wrangled['default payment next month']\n",
    "X = df_wrangled['LIMIT_BAL']\n",
    "\n",
    "y_r = FloatVector(y)\n",
    "X_r = FloatVector(X)\n",
    "\n",
    "fmla = Formula('y_r ~ X_r')\n",
    "env = fmla.environment\n",
    "\n",
    "env['y_r'] = y_r\n",
    "env['X_r'] = X_r"
   ]
  },
  {
   "cell_type": "code",
   "execution_count": 18,
   "metadata": {},
   "outputs": [
    {
     "name": "stdout",
     "output_type": "stream",
     "text": [
      "Coefficients:\n",
      "              Estimate Std. Error z value Pr(>|z|)    \n",
      "(Intercept) -7.556e-01  2.241e-02  -33.71   <2e-16 ***\n",
      "X_r         -3.302e-06  1.263e-07  -26.14   <2e-16 ***\n",
      "---\n",
      "\n",
      "(Dispersion parameter for binomial family taken to be 1)\n",
      "\n",
      "    Null deviance: 31705  on 29999  degrees of freedom\n",
      "Residual deviance: 30931  on 29998  degrees of freedom\n",
      "AIC: 30935\n",
      "\n",
      "Number of Fisher Scoring iterations: 4\n",
      "\n",
      "\n"
     ]
    }
   ],
   "source": [
    "glm_result = glm.logit_model(model='y_r ~ X_r')"
   ]
  },
  {
   "cell_type": "markdown",
   "metadata": {
    "collapsed": true
   },
   "source": [
    "From these results, we see that the p-value for the regression coefficient of X_r  is less than $2 \\times 10^{-16}$, which is less than $\\alpha = 0.05$.  Therefore, we conclude that credit limit is a statistically significant predictor of default.  \n",
    "\n",
    "The regression coefficient is negative, implying that the log-odds of default decrease as credit limit increases."
   ]
  },
  {
   "cell_type": "markdown",
   "metadata": {
    "collapsed": true
   },
   "source": [
    "### 4. Is the ratio of $\\left(\\frac{\\text{bill amount}}{\\text{credit limit}}\\right)$ a significant predictor of default? \n",
    "\n",
    "Here, \"$\\text{bill amount}$\" stands for past credit card bill amounts.\n",
    "\n",
    "We conduct a logistic regression where the ratio of $\\left(\\frac{\\text{bill amount}}{\\text{credit limit}}\\right)$ is the predictor variable and default status is the target variable."
   ]
  },
  {
   "cell_type": "code",
   "execution_count": 19,
   "metadata": {
    "collapsed": true
   },
   "outputs": [],
   "source": [
    "def build_features_ba_over_cl(df):\n",
    "\n",
    "    bill_amount_column_list = ['BILL_AMT1',\n",
    "                               'BILL_AMT2',\n",
    "                               'BILL_AMT3',\n",
    "                               'BILL_AMT4',\n",
    "                               'BILL_AMT5',\n",
    "                               'BILL_AMT6']\n",
    "\n",
    "    df_new = df.copy()\n",
    "    \n",
    "    for i, ba in enumerate(bill_amount_column_list, 1):\n",
    "\n",
    "        new_column_name = 'ba_over_cl_' + str(i)\n",
    "        \n",
    "        df_new[new_column_name] = \\\n",
    "            df_wrangled[ba] / df_wrangled['LIMIT_BAL']\n",
    "\n",
    "    return df_new"
   ]
  },
  {
   "cell_type": "code",
   "execution_count": 20,
   "metadata": {
    "collapsed": true
   },
   "outputs": [],
   "source": [
    "new_df = build_features_ba_over_cl(df_wrangled)\n",
    "# new_df.head()"
   ]
  },
  {
   "cell_type": "code",
   "execution_count": 21,
   "metadata": {
    "scrolled": true
   },
   "outputs": [
    {
     "name": "stdout",
     "output_type": "stream",
     "text": [
      "\n",
      "\n",
      "X_r: ba_over_cl_1\n",
      "\n",
      "\n",
      "Coefficients:\n",
      "            Estimate Std. Error z value Pr(>|z|)    \n",
      "(Intercept) -1.47738    0.02088  -70.75   <2e-16 ***\n",
      "X_r          0.48985    0.03315   14.78   <2e-16 ***\n",
      "---\n",
      "\n",
      "(Dispersion parameter for binomial family taken to be 1)\n",
      "\n",
      "    Null deviance: 31705  on 29999  degrees of freedom\n",
      "Residual deviance: 31488  on 29998  degrees of freedom\n",
      "AIC: 31492\n",
      "\n",
      "Number of Fisher Scoring iterations: 4\n",
      "\n",
      "\n",
      "\n",
      "\n",
      "X_r: ba_over_cl_2\n",
      "\n",
      "\n",
      "Coefficients:\n",
      "            Estimate Std. Error z value Pr(>|z|)    \n",
      "(Intercept) -1.50855    0.02093  -72.07   <2e-16 ***\n",
      "X_r          0.57228    0.03378   16.94   <2e-16 ***\n",
      "---\n",
      "\n",
      "(Dispersion parameter for binomial family taken to be 1)\n",
      "\n",
      "    Null deviance: 31705  on 29999  degrees of freedom\n",
      "Residual deviance: 31418  on 29998  degrees of freedom\n",
      "AIC: 31422\n",
      "\n",
      "Number of Fisher Scoring iterations: 4\n",
      "\n",
      "\n",
      "\n",
      "\n",
      "X_r: ba_over_cl_3\n",
      "\n",
      "\n",
      "Coefficients:\n",
      "            Estimate Std. Error z value Pr(>|z|)    \n",
      "(Intercept) -1.51592    0.02078  -72.95   <2e-16 ***\n",
      "X_r          0.61549    0.03471   17.73   <2e-16 ***\n",
      "---\n",
      "\n",
      "(Dispersion parameter for binomial family taken to be 1)\n",
      "\n",
      "    Null deviance: 31705  on 29999  degrees of freedom\n",
      "Residual deviance: 31389  on 29998  degrees of freedom\n",
      "AIC: 31393\n",
      "\n",
      "Number of Fisher Scoring iterations: 4\n",
      "\n",
      "\n",
      "\n",
      "\n",
      "X_r: ba_over_cl_4\n",
      "\n",
      "\n",
      "Coefficients:\n",
      "            Estimate Std. Error z value Pr(>|z|)    \n",
      "(Intercept) -1.54048    0.02065  -74.60   <2e-16 ***\n",
      "X_r          0.72911    0.03678   19.82   <2e-16 ***\n",
      "---\n",
      "\n",
      "(Dispersion parameter for binomial family taken to be 1)\n",
      "\n",
      "    Null deviance: 31705  on 29999  degrees of freedom\n",
      "Residual deviance: 31314  on 29998  degrees of freedom\n",
      "AIC: 31318\n",
      "\n",
      "Number of Fisher Scoring iterations: 4\n",
      "\n",
      "\n",
      "\n",
      "\n",
      "X_r: ba_over_cl_5\n",
      "\n",
      "\n",
      "Coefficients:\n",
      "            Estimate Std. Error z value Pr(>|z|)    \n",
      "(Intercept) -1.54039    0.02039  -75.56   <2e-16 ***\n",
      "X_r          0.78410    0.03852   20.36   <2e-16 ***\n",
      "---\n",
      "\n",
      "(Dispersion parameter for binomial family taken to be 1)\n",
      "\n",
      "    Null deviance: 31705  on 29999  degrees of freedom\n",
      "Residual deviance: 31294  on 29998  degrees of freedom\n",
      "AIC: 31298\n",
      "\n",
      "Number of Fisher Scoring iterations: 4\n",
      "\n",
      "\n",
      "\n",
      "\n",
      "X_r: ba_over_cl_6\n",
      "\n",
      "\n",
      "Coefficients:\n",
      "            Estimate Std. Error z value Pr(>|z|)    \n",
      "(Intercept) -1.54221    0.02011  -76.68   <2e-16 ***\n",
      "X_r          0.82098    0.03885   21.13   <2e-16 ***\n",
      "---\n",
      "\n",
      "(Dispersion parameter for binomial family taken to be 1)\n",
      "\n",
      "    Null deviance: 31705  on 29999  degrees of freedom\n",
      "Residual deviance: 31265  on 29998  degrees of freedom\n",
      "AIC: 31269\n",
      "\n",
      "Number of Fisher Scoring iterations: 4\n",
      "\n",
      "\n"
     ]
    }
   ],
   "source": [
    "ba_over_cl_list = ['ba_over_cl_1', \n",
    "                   'ba_over_cl_2',\n",
    "                   'ba_over_cl_3', \n",
    "                   'ba_over_cl_4', \n",
    "                   'ba_over_cl_5', \n",
    "                   'ba_over_cl_6']\n",
    "    \n",
    "for col in ba_over_cl_list:\n",
    "    print('\\n')\n",
    "    print('X_r:', col)\n",
    "    print('\\n')\n",
    "    \n",
    "    y = new_df['default payment next month']\n",
    "    X = new_df[col]\n",
    "\n",
    "    y_r = FloatVector(y)\n",
    "    X_r = FloatVector(X)\n",
    "\n",
    "    fmla = Formula('y_r ~ X_r')\n",
    "    env = fmla.environment\n",
    "\n",
    "    env['y_r'] = y_r\n",
    "    env['X_r'] = X_r\n",
    "    glm_result = glm.logit_model(model='y_r ~ X_r')\n",
    "    \n",
    "#    print(glm_result)"
   ]
  },
  {
   "cell_type": "markdown",
   "metadata": {},
   "source": [
    "From these results, we see that the p-value for the regression coefficient of each X_r  is less than $2 \\times 10^{-16}$, which is less than $\\alpha = 0.05$.  Therefore, we conclude that, for each of the 6 bill amounts, the ratio of $\\left(\\frac{\\text{bill amount}}{\\text{credit limit}}\\right)$ is a statistically significant predictor of default.  \n",
    "\n",
    "The regression coefficients are positive, implying that the log-odds of default increase as the ratio of $\\left(\\frac{\\text{bill amount}}{\\text{credit limit}}\\right)$ increases."
   ]
  },
  {
   "cell_type": "markdown",
   "metadata": {},
   "source": [
    "### 5. Is the ratio of $\\left(\\frac{\\text{bill amount} - \\text{pay amount}}{\\text{credit limit}}\\right)$ a significant predictor of default? \n",
    "\n",
    "We conduct a logistic regression where the ratio of $\\left(\\frac{\\text{bill amount} - \\text{pay amount}}{\\text{credit limit}}\\right)$ is the predictor variable and default status is the target variable.\n"
   ]
  },
  {
   "cell_type": "code",
   "execution_count": 22,
   "metadata": {
    "collapsed": true
   },
   "outputs": [],
   "source": [
    "def build_features_ba_less_pa_over_cl(df):\n",
    "\n",
    "    bill_amount_column_list = ['BILL_AMT1',\n",
    "                               'BILL_AMT2',\n",
    "                               'BILL_AMT3',\n",
    "                               'BILL_AMT4',\n",
    "                               'BILL_AMT5',\n",
    "                               'BILL_AMT6']\n",
    "\n",
    "    pay_amount_column_list = ['PAY_AMT1',\n",
    "                              'PAY_AMT2',\n",
    "                              'PAY_AMT3',\n",
    "                              'PAY_AMT4',\n",
    "                              'PAY_AMT5',\n",
    "                              'PAY_AMT6']\n",
    "\n",
    "    df_new = df.copy()\n",
    "    \n",
    "    for i, (ba, pa) in enumerate(zip(bill_amount_column_list, \n",
    "                               pay_amount_column_list), \n",
    "                           1):\n",
    "\n",
    "        new_column_name = 'ba_less_pa_over_cl_' + str(i)\n",
    "        \n",
    "        df_new[new_column_name] = \\\n",
    "            (df_wrangled[ba] -df_wrangled[pa])/ df_wrangled['LIMIT_BAL']\n",
    "\n",
    "    return df_new"
   ]
  },
  {
   "cell_type": "code",
   "execution_count": 23,
   "metadata": {
    "collapsed": true
   },
   "outputs": [],
   "source": [
    "new_df = build_features_ba_less_pa_over_cl(new_df)\n",
    "#new_df.head()"
   ]
  },
  {
   "cell_type": "code",
   "execution_count": 24,
   "metadata": {},
   "outputs": [
    {
     "name": "stdout",
     "output_type": "stream",
     "text": [
      "\n",
      "\n",
      "X_r: ba_less_pa_over_cl_1\n",
      "\n",
      "\n",
      "Coefficients:\n",
      "            Estimate Std. Error z value Pr(>|z|)    \n",
      "(Intercept) -1.46832    0.01990  -73.79   <2e-16 ***\n",
      "X_r          0.52003    0.03321   15.66   <2e-16 ***\n",
      "---\n",
      "\n",
      "(Dispersion parameter for binomial family taken to be 1)\n",
      "\n",
      "    Null deviance: 31705  on 29999  degrees of freedom\n",
      "Residual deviance: 31459  on 29998  degrees of freedom\n",
      "AIC: 31463\n",
      "\n",
      "Number of Fisher Scoring iterations: 4\n",
      "\n",
      "\n",
      "\n",
      "\n",
      "X_r: ba_less_pa_over_cl_2\n",
      "\n",
      "\n",
      "Coefficients:\n",
      "            Estimate Std. Error z value Pr(>|z|)    \n",
      "(Intercept) -1.50342    0.02000  -75.16   <2e-16 ***\n",
      "X_r          0.61929    0.03385   18.30   <2e-16 ***\n",
      "---\n",
      "\n",
      "(Dispersion parameter for binomial family taken to be 1)\n",
      "\n",
      "    Null deviance: 31705  on 29999  degrees of freedom\n",
      "Residual deviance: 31367  on 29998  degrees of freedom\n",
      "AIC: 31371\n",
      "\n",
      "Number of Fisher Scoring iterations: 4\n",
      "\n",
      "\n",
      "\n",
      "\n",
      "X_r: ba_less_pa_over_cl_3\n",
      "\n",
      "\n",
      "Coefficients:\n",
      "            Estimate Std. Error z value Pr(>|z|)    \n",
      "(Intercept) -1.49918    0.01988  -75.41   <2e-16 ***\n",
      "X_r          0.63121    0.03470   18.19   <2e-16 ***\n",
      "---\n",
      "\n",
      "(Dispersion parameter for binomial family taken to be 1)\n",
      "\n",
      "    Null deviance: 31705  on 29999  degrees of freedom\n",
      "Residual deviance: 31370  on 29998  degrees of freedom\n",
      "AIC: 31374\n",
      "\n",
      "Number of Fisher Scoring iterations: 4\n",
      "\n",
      "\n",
      "\n",
      "\n",
      "X_r: ba_less_pa_over_cl_4\n",
      "\n",
      "\n",
      "Coefficients:\n",
      "            Estimate Std. Error z value Pr(>|z|)    \n",
      "(Intercept) -1.51940    0.01976  -76.89   <2e-16 ***\n",
      "X_r          0.73965    0.03669   20.16   <2e-16 ***\n",
      "---\n",
      "\n",
      "(Dispersion parameter for binomial family taken to be 1)\n",
      "\n",
      "    Null deviance: 31705  on 29999  degrees of freedom\n",
      "Residual deviance: 31296  on 29998  degrees of freedom\n",
      "AIC: 31300\n",
      "\n",
      "Number of Fisher Scoring iterations: 4\n",
      "\n",
      "\n",
      "\n",
      "\n",
      "X_r: ba_less_pa_over_cl_5\n",
      "\n",
      "\n",
      "Coefficients:\n",
      "            Estimate Std. Error z value Pr(>|z|)    \n",
      "(Intercept) -1.52155    0.01955  -77.84   <2e-16 ***\n",
      "X_r          0.80622    0.03867   20.85   <2e-16 ***\n",
      "---\n",
      "\n",
      "(Dispersion parameter for binomial family taken to be 1)\n",
      "\n",
      "    Null deviance: 31705  on 29999  degrees of freedom\n",
      "Residual deviance: 31270  on 29998  degrees of freedom\n",
      "AIC: 31274\n",
      "\n",
      "Number of Fisher Scoring iterations: 4\n",
      "\n",
      "\n",
      "\n",
      "\n",
      "X_r: ba_less_pa_over_cl_6\n",
      "\n",
      "\n",
      "Coefficients:\n",
      "            Estimate Std. Error z value Pr(>|z|)    \n",
      "(Intercept) -1.51514    0.01919  -78.95   <2e-16 ***\n",
      "X_r          0.82400    0.03874   21.27   <2e-16 ***\n",
      "---\n",
      "\n",
      "(Dispersion parameter for binomial family taken to be 1)\n",
      "\n",
      "    Null deviance: 31705  on 29999  degrees of freedom\n",
      "Residual deviance: 31254  on 29998  degrees of freedom\n",
      "AIC: 31258\n",
      "\n",
      "Number of Fisher Scoring iterations: 4\n",
      "\n",
      "\n"
     ]
    }
   ],
   "source": [
    "ba_less_pa_over_cl_list = ['ba_less_pa_over_cl_1', \n",
    "                           'ba_less_pa_over_cl_2',\n",
    "                           'ba_less_pa_over_cl_3', \n",
    "                           'ba_less_pa_over_cl_4', \n",
    "                           'ba_less_pa_over_cl_5', \n",
    "                           'ba_less_pa_over_cl_6']\n",
    "    \n",
    "for col in ba_less_pa_over_cl_list:\n",
    "    print('\\n')\n",
    "    print('X_r:', col)\n",
    "    print('\\n')\n",
    "    \n",
    "    y = new_df['default payment next month']\n",
    "    X = new_df[col]\n",
    "\n",
    "    y_r = FloatVector(y)\n",
    "    X_r = FloatVector(X)\n",
    "\n",
    "    fmla = Formula('y_r ~ X_r')\n",
    "    env = fmla.environment\n",
    "\n",
    "    env['y_r'] = y_r\n",
    "    env['X_r'] = X_r\n",
    "    glm_result = glm.logit_model(model='y_r ~ X_r')\n",
    "    \n",
    "#    print(glm_result)"
   ]
  },
  {
   "cell_type": "markdown",
   "metadata": {},
   "source": [
    "From these results, we see that the p-value for the regression coefficient of each X_r  is less than $2 \\times 10^{-16}$, which is less than $\\alpha = 0.05$.  Therefore, we conclude that, for each of the 6 (bill amount, pay amount) pairs, the ratio of $\\left(\\frac{\\text{bill amount} - \\text{pay amount}}{\\text{credit limit}}\\right)$ is a statistically significant predictor of default.  \n",
    "\n",
    "The regression coefficients are positive, implying that the log-odds of default increase as the ratio of \n",
    "$\\left(\\frac{\\text{bill amount} - \\text{pay amount}}{\\text{credit limit}}\\right)$ increases."
   ]
  },
  {
   "cell_type": "markdown",
   "metadata": {
    "collapsed": true
   },
   "source": [
    "## Feature Engineering"
   ]
  },
  {
   "cell_type": "markdown",
   "metadata": {
    "collapsed": true
   },
   "source": [
    "Next, we will engineer two sets of six features.  These sets consist of:\n",
    "+ the ratio of $\\left(\\frac{\\text{bill amount}}{\\text{credit limit}}\\right)$, and\n",
    "+ the ratio of $\\left(\\frac{\\text{bill amount} - \\text{pay amount}}{\\text{credit limit}}\\right)$.\n",
    "\n",
    "The new dataset that includes these new features will saved to a file called `dataset_interim.csv` in the `interim` folder."
   ]
  },
  {
   "cell_type": "code",
   "execution_count": 25,
   "metadata": {
    "collapsed": true
   },
   "outputs": [],
   "source": [
    "# import build_features from the source code\n",
    "import features.build_ratio_features as brf"
   ]
  },
  {
   "cell_type": "code",
   "execution_count": 26,
   "metadata": {
    "collapsed": true
   },
   "outputs": [],
   "source": [
    "# Engineer features\n",
    "brf.create_interim_dataset(new_file_name='dataset_interim.csv')"
   ]
  },
  {
   "cell_type": "markdown",
   "metadata": {},
   "source": [
    "Review the `dataset_interim.csv` file to check that the feature engineering worked as expected."
   ]
  },
  {
   "cell_type": "code",
   "execution_count": 27,
   "metadata": {},
   "outputs": [
    {
     "data": {
      "text/html": [
       "<div>\n",
       "<style>\n",
       "    .dataframe thead tr:only-child th {\n",
       "        text-align: right;\n",
       "    }\n",
       "\n",
       "    .dataframe thead th {\n",
       "        text-align: left;\n",
       "    }\n",
       "\n",
       "    .dataframe tbody tr th {\n",
       "        vertical-align: top;\n",
       "    }\n",
       "</style>\n",
       "<table border=\"1\" class=\"dataframe\">\n",
       "  <thead>\n",
       "    <tr style=\"text-align: right;\">\n",
       "      <th></th>\n",
       "      <th>LIMIT_BAL</th>\n",
       "      <th>SEX</th>\n",
       "      <th>EDUCATION</th>\n",
       "      <th>MARRIAGE</th>\n",
       "      <th>AGE</th>\n",
       "      <th>PAY_1</th>\n",
       "      <th>PAY_2</th>\n",
       "      <th>PAY_3</th>\n",
       "      <th>PAY_4</th>\n",
       "      <th>PAY_5</th>\n",
       "      <th>PAY_6</th>\n",
       "      <th>BILL_AMT1</th>\n",
       "      <th>BILL_AMT2</th>\n",
       "      <th>BILL_AMT3</th>\n",
       "      <th>BILL_AMT4</th>\n",
       "      <th>BILL_AMT5</th>\n",
       "      <th>BILL_AMT6</th>\n",
       "      <th>PAY_AMT1</th>\n",
       "      <th>PAY_AMT2</th>\n",
       "      <th>PAY_AMT3</th>\n",
       "      <th>PAY_AMT4</th>\n",
       "      <th>PAY_AMT5</th>\n",
       "      <th>PAY_AMT6</th>\n",
       "      <th>default payment next month</th>\n",
       "      <th>ba_over_cl_1</th>\n",
       "      <th>ba_over_cl_2</th>\n",
       "      <th>ba_over_cl_3</th>\n",
       "      <th>ba_over_cl_4</th>\n",
       "      <th>ba_over_cl_5</th>\n",
       "      <th>ba_over_cl_6</th>\n",
       "      <th>ba_less_pa_over_cl_1</th>\n",
       "      <th>ba_less_pa_over_cl_2</th>\n",
       "      <th>ba_less_pa_over_cl_3</th>\n",
       "      <th>ba_less_pa_over_cl_4</th>\n",
       "      <th>ba_less_pa_over_cl_5</th>\n",
       "      <th>ba_less_pa_over_cl_6</th>\n",
       "    </tr>\n",
       "    <tr>\n",
       "      <th>ID</th>\n",
       "      <th></th>\n",
       "      <th></th>\n",
       "      <th></th>\n",
       "      <th></th>\n",
       "      <th></th>\n",
       "      <th></th>\n",
       "      <th></th>\n",
       "      <th></th>\n",
       "      <th></th>\n",
       "      <th></th>\n",
       "      <th></th>\n",
       "      <th></th>\n",
       "      <th></th>\n",
       "      <th></th>\n",
       "      <th></th>\n",
       "      <th></th>\n",
       "      <th></th>\n",
       "      <th></th>\n",
       "      <th></th>\n",
       "      <th></th>\n",
       "      <th></th>\n",
       "      <th></th>\n",
       "      <th></th>\n",
       "      <th></th>\n",
       "      <th></th>\n",
       "      <th></th>\n",
       "      <th></th>\n",
       "      <th></th>\n",
       "      <th></th>\n",
       "      <th></th>\n",
       "      <th></th>\n",
       "      <th></th>\n",
       "      <th></th>\n",
       "      <th></th>\n",
       "      <th></th>\n",
       "      <th></th>\n",
       "    </tr>\n",
       "  </thead>\n",
       "  <tbody>\n",
       "    <tr>\n",
       "      <th>1</th>\n",
       "      <td>20000</td>\n",
       "      <td>2</td>\n",
       "      <td>2</td>\n",
       "      <td>1</td>\n",
       "      <td>24</td>\n",
       "      <td>2</td>\n",
       "      <td>2</td>\n",
       "      <td>-1</td>\n",
       "      <td>-1</td>\n",
       "      <td>-2</td>\n",
       "      <td>-2</td>\n",
       "      <td>3913</td>\n",
       "      <td>3102</td>\n",
       "      <td>689</td>\n",
       "      <td>0</td>\n",
       "      <td>0</td>\n",
       "      <td>0</td>\n",
       "      <td>0</td>\n",
       "      <td>689</td>\n",
       "      <td>0</td>\n",
       "      <td>0</td>\n",
       "      <td>0</td>\n",
       "      <td>0</td>\n",
       "      <td>1</td>\n",
       "      <td>0.195650</td>\n",
       "      <td>0.155100</td>\n",
       "      <td>0.034450</td>\n",
       "      <td>0.000000</td>\n",
       "      <td>0.000000</td>\n",
       "      <td>0.000000</td>\n",
       "      <td>0.195650</td>\n",
       "      <td>0.120650</td>\n",
       "      <td>0.034450</td>\n",
       "      <td>0.000000</td>\n",
       "      <td>0.000000</td>\n",
       "      <td>0.000000</td>\n",
       "    </tr>\n",
       "    <tr>\n",
       "      <th>2</th>\n",
       "      <td>120000</td>\n",
       "      <td>2</td>\n",
       "      <td>2</td>\n",
       "      <td>2</td>\n",
       "      <td>26</td>\n",
       "      <td>-1</td>\n",
       "      <td>2</td>\n",
       "      <td>0</td>\n",
       "      <td>0</td>\n",
       "      <td>0</td>\n",
       "      <td>2</td>\n",
       "      <td>2682</td>\n",
       "      <td>1725</td>\n",
       "      <td>2682</td>\n",
       "      <td>3272</td>\n",
       "      <td>3455</td>\n",
       "      <td>3261</td>\n",
       "      <td>0</td>\n",
       "      <td>1000</td>\n",
       "      <td>1000</td>\n",
       "      <td>1000</td>\n",
       "      <td>0</td>\n",
       "      <td>2000</td>\n",
       "      <td>1</td>\n",
       "      <td>0.022350</td>\n",
       "      <td>0.014375</td>\n",
       "      <td>0.022350</td>\n",
       "      <td>0.027267</td>\n",
       "      <td>0.028792</td>\n",
       "      <td>0.027175</td>\n",
       "      <td>0.022350</td>\n",
       "      <td>0.006042</td>\n",
       "      <td>0.014017</td>\n",
       "      <td>0.018933</td>\n",
       "      <td>0.028792</td>\n",
       "      <td>0.010508</td>\n",
       "    </tr>\n",
       "    <tr>\n",
       "      <th>3</th>\n",
       "      <td>90000</td>\n",
       "      <td>2</td>\n",
       "      <td>2</td>\n",
       "      <td>2</td>\n",
       "      <td>34</td>\n",
       "      <td>0</td>\n",
       "      <td>0</td>\n",
       "      <td>0</td>\n",
       "      <td>0</td>\n",
       "      <td>0</td>\n",
       "      <td>0</td>\n",
       "      <td>29239</td>\n",
       "      <td>14027</td>\n",
       "      <td>13559</td>\n",
       "      <td>14331</td>\n",
       "      <td>14948</td>\n",
       "      <td>15549</td>\n",
       "      <td>1518</td>\n",
       "      <td>1500</td>\n",
       "      <td>1000</td>\n",
       "      <td>1000</td>\n",
       "      <td>1000</td>\n",
       "      <td>5000</td>\n",
       "      <td>0</td>\n",
       "      <td>0.324878</td>\n",
       "      <td>0.155856</td>\n",
       "      <td>0.150656</td>\n",
       "      <td>0.159233</td>\n",
       "      <td>0.166089</td>\n",
       "      <td>0.172767</td>\n",
       "      <td>0.308011</td>\n",
       "      <td>0.139189</td>\n",
       "      <td>0.139544</td>\n",
       "      <td>0.148122</td>\n",
       "      <td>0.154978</td>\n",
       "      <td>0.117211</td>\n",
       "    </tr>\n",
       "    <tr>\n",
       "      <th>4</th>\n",
       "      <td>50000</td>\n",
       "      <td>2</td>\n",
       "      <td>2</td>\n",
       "      <td>1</td>\n",
       "      <td>37</td>\n",
       "      <td>0</td>\n",
       "      <td>0</td>\n",
       "      <td>0</td>\n",
       "      <td>0</td>\n",
       "      <td>0</td>\n",
       "      <td>0</td>\n",
       "      <td>46990</td>\n",
       "      <td>48233</td>\n",
       "      <td>49291</td>\n",
       "      <td>28314</td>\n",
       "      <td>28959</td>\n",
       "      <td>29547</td>\n",
       "      <td>2000</td>\n",
       "      <td>2019</td>\n",
       "      <td>1200</td>\n",
       "      <td>1100</td>\n",
       "      <td>1069</td>\n",
       "      <td>1000</td>\n",
       "      <td>0</td>\n",
       "      <td>0.939800</td>\n",
       "      <td>0.964660</td>\n",
       "      <td>0.985820</td>\n",
       "      <td>0.566280</td>\n",
       "      <td>0.579180</td>\n",
       "      <td>0.590940</td>\n",
       "      <td>0.899800</td>\n",
       "      <td>0.924280</td>\n",
       "      <td>0.961820</td>\n",
       "      <td>0.544280</td>\n",
       "      <td>0.557800</td>\n",
       "      <td>0.570940</td>\n",
       "    </tr>\n",
       "    <tr>\n",
       "      <th>5</th>\n",
       "      <td>50000</td>\n",
       "      <td>1</td>\n",
       "      <td>2</td>\n",
       "      <td>1</td>\n",
       "      <td>57</td>\n",
       "      <td>-1</td>\n",
       "      <td>0</td>\n",
       "      <td>-1</td>\n",
       "      <td>0</td>\n",
       "      <td>0</td>\n",
       "      <td>0</td>\n",
       "      <td>8617</td>\n",
       "      <td>5670</td>\n",
       "      <td>35835</td>\n",
       "      <td>20940</td>\n",
       "      <td>19146</td>\n",
       "      <td>19131</td>\n",
       "      <td>2000</td>\n",
       "      <td>36681</td>\n",
       "      <td>10000</td>\n",
       "      <td>9000</td>\n",
       "      <td>689</td>\n",
       "      <td>679</td>\n",
       "      <td>0</td>\n",
       "      <td>0.172340</td>\n",
       "      <td>0.113400</td>\n",
       "      <td>0.716700</td>\n",
       "      <td>0.418800</td>\n",
       "      <td>0.382920</td>\n",
       "      <td>0.382620</td>\n",
       "      <td>0.132340</td>\n",
       "      <td>-0.620220</td>\n",
       "      <td>0.516700</td>\n",
       "      <td>0.238800</td>\n",
       "      <td>0.369140</td>\n",
       "      <td>0.369040</td>\n",
       "    </tr>\n",
       "  </tbody>\n",
       "</table>\n",
       "</div>"
      ],
      "text/plain": [
       "    LIMIT_BAL  SEX  EDUCATION  MARRIAGE  AGE  PAY_1  PAY_2  PAY_3  PAY_4  \\\n",
       "ID                                                                         \n",
       "1       20000    2          2         1   24      2      2     -1     -1   \n",
       "2      120000    2          2         2   26     -1      2      0      0   \n",
       "3       90000    2          2         2   34      0      0      0      0   \n",
       "4       50000    2          2         1   37      0      0      0      0   \n",
       "5       50000    1          2         1   57     -1      0     -1      0   \n",
       "\n",
       "    PAY_5  PAY_6  BILL_AMT1  BILL_AMT2  BILL_AMT3  BILL_AMT4  BILL_AMT5  \\\n",
       "ID                                                                        \n",
       "1      -2     -2       3913       3102        689          0          0   \n",
       "2       0      2       2682       1725       2682       3272       3455   \n",
       "3       0      0      29239      14027      13559      14331      14948   \n",
       "4       0      0      46990      48233      49291      28314      28959   \n",
       "5       0      0       8617       5670      35835      20940      19146   \n",
       "\n",
       "    BILL_AMT6  PAY_AMT1  PAY_AMT2  PAY_AMT3  PAY_AMT4  PAY_AMT5  PAY_AMT6  \\\n",
       "ID                                                                          \n",
       "1           0         0       689         0         0         0         0   \n",
       "2        3261         0      1000      1000      1000         0      2000   \n",
       "3       15549      1518      1500      1000      1000      1000      5000   \n",
       "4       29547      2000      2019      1200      1100      1069      1000   \n",
       "5       19131      2000     36681     10000      9000       689       679   \n",
       "\n",
       "    default payment next month  ba_over_cl_1  ba_over_cl_2  ba_over_cl_3  \\\n",
       "ID                                                                         \n",
       "1                            1      0.195650      0.155100      0.034450   \n",
       "2                            1      0.022350      0.014375      0.022350   \n",
       "3                            0      0.324878      0.155856      0.150656   \n",
       "4                            0      0.939800      0.964660      0.985820   \n",
       "5                            0      0.172340      0.113400      0.716700   \n",
       "\n",
       "    ba_over_cl_4  ba_over_cl_5  ba_over_cl_6  ba_less_pa_over_cl_1  \\\n",
       "ID                                                                   \n",
       "1       0.000000      0.000000      0.000000              0.195650   \n",
       "2       0.027267      0.028792      0.027175              0.022350   \n",
       "3       0.159233      0.166089      0.172767              0.308011   \n",
       "4       0.566280      0.579180      0.590940              0.899800   \n",
       "5       0.418800      0.382920      0.382620              0.132340   \n",
       "\n",
       "    ba_less_pa_over_cl_2  ba_less_pa_over_cl_3  ba_less_pa_over_cl_4  \\\n",
       "ID                                                                     \n",
       "1               0.120650              0.034450              0.000000   \n",
       "2               0.006042              0.014017              0.018933   \n",
       "3               0.139189              0.139544              0.148122   \n",
       "4               0.924280              0.961820              0.544280   \n",
       "5              -0.620220              0.516700              0.238800   \n",
       "\n",
       "    ba_less_pa_over_cl_5  ba_less_pa_over_cl_6  \n",
       "ID                                              \n",
       "1               0.000000              0.000000  \n",
       "2               0.028792              0.010508  \n",
       "3               0.154978              0.117211  \n",
       "4               0.557800              0.570940  \n",
       "5               0.369140              0.369040  "
      ]
     },
     "execution_count": 27,
     "metadata": {},
     "output_type": "execute_result"
    }
   ],
   "source": [
    "# Save path to the interim data file\n",
    "# \"dataset_interim.csv\"\n",
    "interim_data_file = os.path.join(proj_root,\n",
    "                                   \"data\",\n",
    "                                   \"interim\",\n",
    "                                   \"dataset_interim.csv\")\n",
    "\n",
    "# Read in the new credit card client default data set.\n",
    "df_new = pd.read_csv(interim_data_file, \n",
    "                           index_col=0)\n",
    "\n",
    "df_new.head()"
   ]
  },
  {
   "cell_type": "markdown",
   "metadata": {},
   "source": [
    "The feature engineering worked as expected."
   ]
  }
 ],
 "metadata": {
  "kernelspec": {
   "display_name": "Python 3",
   "language": "python",
   "name": "python3"
  },
  "language_info": {
   "codemirror_mode": {
    "name": "ipython",
    "version": 3
   },
   "file_extension": ".py",
   "mimetype": "text/x-python",
   "name": "python",
   "nbconvert_exporter": "python",
   "pygments_lexer": "ipython3",
   "version": "3.6.7"
  }
 },
 "nbformat": 4,
 "nbformat_minor": 2
}
