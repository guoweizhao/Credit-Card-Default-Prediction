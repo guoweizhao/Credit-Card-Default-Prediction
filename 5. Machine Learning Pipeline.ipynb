{
 "cells": [
  {
   "cell_type": "markdown",
   "metadata": {
    "collapsed": true
   },
   "source": [
    "# Machine Learning Pipeline"
   ]
  },
  {
   "cell_type": "code",
   "execution_count": 1,
   "metadata": {},
   "outputs": [
    {
     "name": "stderr",
     "output_type": "stream",
     "text": [
      "/anaconda/lib/python3.6/site-packages/sklearn/cross_validation.py:41: DeprecationWarning: This module was deprecated in version 0.18 in favor of the model_selection module into which all the refactored classes and functions are moved. Also note that the interface of the new CV iterators are different from that of this module. This module will be removed in 0.20.\n",
      "  \"This module will be removed in 0.20.\", DeprecationWarning)\n"
     ]
    }
   ],
   "source": [
    "# Import libraries\n",
    "import os\n",
    "import sys\n",
    "\n",
    "# cpu_count returns the number of CPUs in the system.\n",
    "from multiprocessing import cpu_count\n",
    "\n",
    "import numpy as np\n",
    "import pandas as pd\n",
    "\n",
    "# Import metrics\n",
    "from sklearn.metrics import accuracy_score\n",
    "from sklearn.metrics import roc_auc_score\n",
    "from sklearn.metrics import roc_curve\n",
    "\n",
    "# Import preprocessing methods from sklearn\n",
    "from sklearn.preprocessing import StandardScaler\n",
    "from sklearn.preprocessing import RobustScaler\n",
    "from sklearn.preprocessing import MinMaxScaler\n",
    "\n",
    "# Import PCA\n",
    "from sklearn.decomposition import PCA\n",
    "\n",
    "# Import feature_selection tools\n",
    "from sklearn.feature_selection import VarianceThreshold\n",
    "\n",
    "# Import models from sklearn\n",
    "from sklearn.dummy import DummyClassifier\n",
    "from sklearn.linear_model import LogisticRegression\n",
    "\n",
    "# Import XGBClassifier\n",
    "from xgboost.sklearn import XGBClassifier\n",
    "\n",
    "# Import from sklearn\n",
    "from sklearn.model_selection import train_test_split\n",
    "from sklearn.model_selection import cross_val_score\n",
    "from sklearn.model_selection import GridSearchCV\n",
    "from sklearn.pipeline import Pipeline\n",
    "from sklearn.externals import joblib\n",
    "from sklearn.base import TransformerMixin\n",
    "from sklearn.base import BaseEstimator\n",
    "\n",
    "# Import plotting libraries\n",
    "import matplotlib.pyplot as plt\n",
    "\n",
    "# Modify notebook settings\n",
    "pd.options.display.max_columns = 150\n",
    "pd.options.display.max_rows = 150\n",
    "%matplotlib inline\n",
    "plt.style.use('ggplot')"
   ]
  },
  {
   "cell_type": "markdown",
   "metadata": {},
   "source": [
    "### Create paths to data file, append `src` directory to sys.path"
   ]
  },
  {
   "cell_type": "code",
   "execution_count": 2,
   "metadata": {
    "collapsed": true
   },
   "outputs": [],
   "source": [
    "# Create a variable for the project root directory\n",
    "proj_root = os.path.join(os.pardir)\n",
    "\n",
    "# Save path to the processed data file\n",
    "# \"dataset_processed.csv\"\n",
    "processed_data_file = os.path.join(proj_root,\n",
    "                                   \"data\",\n",
    "                                   \"processed\",\n",
    "                                   \"dataset_processed.csv\")"
   ]
  },
  {
   "cell_type": "code",
   "execution_count": 3,
   "metadata": {
    "collapsed": true
   },
   "outputs": [],
   "source": [
    "# add the 'src' directory as one where we can import modules\n",
    "src_dir = os.path.join(proj_root, \"src\")\n",
    "sys.path.append(src_dir)"
   ]
  },
  {
   "cell_type": "markdown",
   "metadata": {},
   "source": [
    "### Create paths to data file, append `src` directory to sys.path"
   ]
  },
  {
   "cell_type": "code",
   "execution_count": 4,
   "metadata": {
    "collapsed": true
   },
   "outputs": [],
   "source": [
    "# Save the path to the folder that will contain \n",
    "# the figures for the final report:\n",
    "# /reports/figures\n",
    "figures_dir = os.path.join(proj_root,\n",
    "                                \"reports\",\n",
    "                                \"figures\")"
   ]
  },
  {
   "cell_type": "markdown",
   "metadata": {},
   "source": [
    "### Read in the processed data"
   ]
  },
  {
   "cell_type": "code",
   "execution_count": 5,
   "metadata": {},
   "outputs": [
    {
     "data": {
      "text/html": [
       "<div>\n",
       "<style>\n",
       "    .dataframe thead tr:only-child th {\n",
       "        text-align: right;\n",
       "    }\n",
       "\n",
       "    .dataframe thead th {\n",
       "        text-align: left;\n",
       "    }\n",
       "\n",
       "    .dataframe tbody tr th {\n",
       "        vertical-align: top;\n",
       "    }\n",
       "</style>\n",
       "<table border=\"1\" class=\"dataframe\">\n",
       "  <thead>\n",
       "    <tr style=\"text-align: right;\">\n",
       "      <th></th>\n",
       "      <th>y</th>\n",
       "      <th>limit_bal</th>\n",
       "      <th>age</th>\n",
       "      <th>bill_amt1</th>\n",
       "      <th>bill_amt2</th>\n",
       "      <th>bill_amt3</th>\n",
       "      <th>bill_amt4</th>\n",
       "      <th>bill_amt5</th>\n",
       "      <th>bill_amt6</th>\n",
       "      <th>pay_amt1</th>\n",
       "      <th>pay_amt2</th>\n",
       "      <th>pay_amt3</th>\n",
       "      <th>pay_amt4</th>\n",
       "      <th>pay_amt5</th>\n",
       "      <th>pay_amt6</th>\n",
       "      <th>bl_ratio_1</th>\n",
       "      <th>bl_ratio_2</th>\n",
       "      <th>bl_ratio_3</th>\n",
       "      <th>bl_ratio_4</th>\n",
       "      <th>bl_ratio_5</th>\n",
       "      <th>bl_ratio_6</th>\n",
       "      <th>blpl_ratio_1</th>\n",
       "      <th>blpl_ratio_2</th>\n",
       "      <th>blpl_ratio_3</th>\n",
       "      <th>blpl_ratio_4</th>\n",
       "      <th>blpl_ratio_5</th>\n",
       "      <th>blpl_ratio_6</th>\n",
       "      <th>sex_2</th>\n",
       "      <th>edu_2</th>\n",
       "      <th>edu_3</th>\n",
       "      <th>edu_4</th>\n",
       "      <th>marriage_1</th>\n",
       "      <th>marriage_2</th>\n",
       "      <th>marriage_3</th>\n",
       "      <th>pay_1_-2</th>\n",
       "      <th>pay_1_0</th>\n",
       "      <th>pay_1_1</th>\n",
       "      <th>pay_1_2</th>\n",
       "      <th>pay_1_3</th>\n",
       "      <th>pay_1_4</th>\n",
       "      <th>pay_1_5</th>\n",
       "      <th>pay_1_6</th>\n",
       "      <th>pay_1_7</th>\n",
       "      <th>pay_1_8</th>\n",
       "      <th>pay_2_-2</th>\n",
       "      <th>pay_2_0</th>\n",
       "      <th>pay_2_1</th>\n",
       "      <th>pay_2_2</th>\n",
       "      <th>pay_2_3</th>\n",
       "      <th>pay_2_4</th>\n",
       "      <th>pay_2_5</th>\n",
       "      <th>pay_2_6</th>\n",
       "      <th>pay_2_7</th>\n",
       "      <th>pay_2_8</th>\n",
       "      <th>pay_3_-2</th>\n",
       "      <th>pay_3_0</th>\n",
       "      <th>pay_3_1</th>\n",
       "      <th>pay_3_2</th>\n",
       "      <th>pay_3_3</th>\n",
       "      <th>pay_3_4</th>\n",
       "      <th>pay_3_5</th>\n",
       "      <th>pay_3_6</th>\n",
       "      <th>pay_3_7</th>\n",
       "      <th>pay_3_8</th>\n",
       "      <th>pay_4_-2</th>\n",
       "      <th>pay_4_0</th>\n",
       "      <th>pay_4_1</th>\n",
       "      <th>pay_4_2</th>\n",
       "      <th>pay_4_3</th>\n",
       "      <th>pay_4_4</th>\n",
       "      <th>pay_4_5</th>\n",
       "      <th>pay_4_6</th>\n",
       "      <th>pay_4_7</th>\n",
       "      <th>pay_4_8</th>\n",
       "      <th>pay_5_-2</th>\n",
       "      <th>pay_5_0</th>\n",
       "      <th>pay_5_2</th>\n",
       "      <th>pay_5_3</th>\n",
       "      <th>pay_5_4</th>\n",
       "      <th>pay_5_5</th>\n",
       "      <th>pay_5_6</th>\n",
       "      <th>pay_5_7</th>\n",
       "      <th>pay_5_8</th>\n",
       "      <th>pay_6_-2</th>\n",
       "      <th>pay_6_0</th>\n",
       "      <th>pay_6_2</th>\n",
       "      <th>pay_6_3</th>\n",
       "      <th>pay_6_4</th>\n",
       "      <th>pay_6_5</th>\n",
       "      <th>pay_6_6</th>\n",
       "      <th>pay_6_7</th>\n",
       "      <th>pay_6_8</th>\n",
       "    </tr>\n",
       "    <tr>\n",
       "      <th>ID</th>\n",
       "      <th></th>\n",
       "      <th></th>\n",
       "      <th></th>\n",
       "      <th></th>\n",
       "      <th></th>\n",
       "      <th></th>\n",
       "      <th></th>\n",
       "      <th></th>\n",
       "      <th></th>\n",
       "      <th></th>\n",
       "      <th></th>\n",
       "      <th></th>\n",
       "      <th></th>\n",
       "      <th></th>\n",
       "      <th></th>\n",
       "      <th></th>\n",
       "      <th></th>\n",
       "      <th></th>\n",
       "      <th></th>\n",
       "      <th></th>\n",
       "      <th></th>\n",
       "      <th></th>\n",
       "      <th></th>\n",
       "      <th></th>\n",
       "      <th></th>\n",
       "      <th></th>\n",
       "      <th></th>\n",
       "      <th></th>\n",
       "      <th></th>\n",
       "      <th></th>\n",
       "      <th></th>\n",
       "      <th></th>\n",
       "      <th></th>\n",
       "      <th></th>\n",
       "      <th></th>\n",
       "      <th></th>\n",
       "      <th></th>\n",
       "      <th></th>\n",
       "      <th></th>\n",
       "      <th></th>\n",
       "      <th></th>\n",
       "      <th></th>\n",
       "      <th></th>\n",
       "      <th></th>\n",
       "      <th></th>\n",
       "      <th></th>\n",
       "      <th></th>\n",
       "      <th></th>\n",
       "      <th></th>\n",
       "      <th></th>\n",
       "      <th></th>\n",
       "      <th></th>\n",
       "      <th></th>\n",
       "      <th></th>\n",
       "      <th></th>\n",
       "      <th></th>\n",
       "      <th></th>\n",
       "      <th></th>\n",
       "      <th></th>\n",
       "      <th></th>\n",
       "      <th></th>\n",
       "      <th></th>\n",
       "      <th></th>\n",
       "      <th></th>\n",
       "      <th></th>\n",
       "      <th></th>\n",
       "      <th></th>\n",
       "      <th></th>\n",
       "      <th></th>\n",
       "      <th></th>\n",
       "      <th></th>\n",
       "      <th></th>\n",
       "      <th></th>\n",
       "      <th></th>\n",
       "      <th></th>\n",
       "      <th></th>\n",
       "      <th></th>\n",
       "      <th></th>\n",
       "      <th></th>\n",
       "      <th></th>\n",
       "      <th></th>\n",
       "      <th></th>\n",
       "      <th></th>\n",
       "      <th></th>\n",
       "      <th></th>\n",
       "      <th></th>\n",
       "      <th></th>\n",
       "      <th></th>\n",
       "      <th></th>\n",
       "      <th></th>\n",
       "      <th></th>\n",
       "      <th></th>\n",
       "    </tr>\n",
       "  </thead>\n",
       "  <tbody>\n",
       "    <tr>\n",
       "      <th>1</th>\n",
       "      <td>1</td>\n",
       "      <td>20000</td>\n",
       "      <td>24</td>\n",
       "      <td>3913</td>\n",
       "      <td>3102</td>\n",
       "      <td>689</td>\n",
       "      <td>0</td>\n",
       "      <td>0</td>\n",
       "      <td>0</td>\n",
       "      <td>0</td>\n",
       "      <td>689</td>\n",
       "      <td>0</td>\n",
       "      <td>0</td>\n",
       "      <td>0</td>\n",
       "      <td>0</td>\n",
       "      <td>0.195650</td>\n",
       "      <td>0.155100</td>\n",
       "      <td>0.034450</td>\n",
       "      <td>0.000000</td>\n",
       "      <td>0.000000</td>\n",
       "      <td>0.000000</td>\n",
       "      <td>0.195650</td>\n",
       "      <td>0.120650</td>\n",
       "      <td>0.034450</td>\n",
       "      <td>0.000000</td>\n",
       "      <td>0.000000</td>\n",
       "      <td>0.000000</td>\n",
       "      <td>1</td>\n",
       "      <td>1</td>\n",
       "      <td>0</td>\n",
       "      <td>0</td>\n",
       "      <td>1</td>\n",
       "      <td>0</td>\n",
       "      <td>0</td>\n",
       "      <td>0</td>\n",
       "      <td>0</td>\n",
       "      <td>0</td>\n",
       "      <td>1</td>\n",
       "      <td>0</td>\n",
       "      <td>0</td>\n",
       "      <td>0</td>\n",
       "      <td>0</td>\n",
       "      <td>0</td>\n",
       "      <td>0</td>\n",
       "      <td>0</td>\n",
       "      <td>0</td>\n",
       "      <td>0</td>\n",
       "      <td>1</td>\n",
       "      <td>0</td>\n",
       "      <td>0</td>\n",
       "      <td>0</td>\n",
       "      <td>0</td>\n",
       "      <td>0</td>\n",
       "      <td>0</td>\n",
       "      <td>0</td>\n",
       "      <td>0</td>\n",
       "      <td>0</td>\n",
       "      <td>0</td>\n",
       "      <td>0</td>\n",
       "      <td>0</td>\n",
       "      <td>0</td>\n",
       "      <td>0</td>\n",
       "      <td>0</td>\n",
       "      <td>0</td>\n",
       "      <td>0</td>\n",
       "      <td>0</td>\n",
       "      <td>0</td>\n",
       "      <td>0</td>\n",
       "      <td>0</td>\n",
       "      <td>0</td>\n",
       "      <td>0</td>\n",
       "      <td>0</td>\n",
       "      <td>0</td>\n",
       "      <td>0</td>\n",
       "      <td>1</td>\n",
       "      <td>0</td>\n",
       "      <td>0</td>\n",
       "      <td>0</td>\n",
       "      <td>0</td>\n",
       "      <td>0</td>\n",
       "      <td>0</td>\n",
       "      <td>0</td>\n",
       "      <td>0</td>\n",
       "      <td>1</td>\n",
       "      <td>0</td>\n",
       "      <td>0</td>\n",
       "      <td>0</td>\n",
       "      <td>0</td>\n",
       "      <td>0</td>\n",
       "      <td>0</td>\n",
       "      <td>0</td>\n",
       "      <td>0</td>\n",
       "    </tr>\n",
       "    <tr>\n",
       "      <th>2</th>\n",
       "      <td>1</td>\n",
       "      <td>120000</td>\n",
       "      <td>26</td>\n",
       "      <td>2682</td>\n",
       "      <td>1725</td>\n",
       "      <td>2682</td>\n",
       "      <td>3272</td>\n",
       "      <td>3455</td>\n",
       "      <td>3261</td>\n",
       "      <td>0</td>\n",
       "      <td>1000</td>\n",
       "      <td>1000</td>\n",
       "      <td>1000</td>\n",
       "      <td>0</td>\n",
       "      <td>2000</td>\n",
       "      <td>0.022350</td>\n",
       "      <td>0.014375</td>\n",
       "      <td>0.022350</td>\n",
       "      <td>0.027267</td>\n",
       "      <td>0.028792</td>\n",
       "      <td>0.027175</td>\n",
       "      <td>0.022350</td>\n",
       "      <td>0.006042</td>\n",
       "      <td>0.014017</td>\n",
       "      <td>0.018933</td>\n",
       "      <td>0.028792</td>\n",
       "      <td>0.010508</td>\n",
       "      <td>1</td>\n",
       "      <td>1</td>\n",
       "      <td>0</td>\n",
       "      <td>0</td>\n",
       "      <td>0</td>\n",
       "      <td>1</td>\n",
       "      <td>0</td>\n",
       "      <td>0</td>\n",
       "      <td>0</td>\n",
       "      <td>0</td>\n",
       "      <td>0</td>\n",
       "      <td>0</td>\n",
       "      <td>0</td>\n",
       "      <td>0</td>\n",
       "      <td>0</td>\n",
       "      <td>0</td>\n",
       "      <td>0</td>\n",
       "      <td>0</td>\n",
       "      <td>0</td>\n",
       "      <td>0</td>\n",
       "      <td>1</td>\n",
       "      <td>0</td>\n",
       "      <td>0</td>\n",
       "      <td>0</td>\n",
       "      <td>0</td>\n",
       "      <td>0</td>\n",
       "      <td>0</td>\n",
       "      <td>0</td>\n",
       "      <td>1</td>\n",
       "      <td>0</td>\n",
       "      <td>0</td>\n",
       "      <td>0</td>\n",
       "      <td>0</td>\n",
       "      <td>0</td>\n",
       "      <td>0</td>\n",
       "      <td>0</td>\n",
       "      <td>0</td>\n",
       "      <td>0</td>\n",
       "      <td>1</td>\n",
       "      <td>0</td>\n",
       "      <td>0</td>\n",
       "      <td>0</td>\n",
       "      <td>0</td>\n",
       "      <td>0</td>\n",
       "      <td>0</td>\n",
       "      <td>0</td>\n",
       "      <td>0</td>\n",
       "      <td>0</td>\n",
       "      <td>1</td>\n",
       "      <td>0</td>\n",
       "      <td>0</td>\n",
       "      <td>0</td>\n",
       "      <td>0</td>\n",
       "      <td>0</td>\n",
       "      <td>0</td>\n",
       "      <td>0</td>\n",
       "      <td>0</td>\n",
       "      <td>0</td>\n",
       "      <td>1</td>\n",
       "      <td>0</td>\n",
       "      <td>0</td>\n",
       "      <td>0</td>\n",
       "      <td>0</td>\n",
       "      <td>0</td>\n",
       "      <td>0</td>\n",
       "    </tr>\n",
       "    <tr>\n",
       "      <th>3</th>\n",
       "      <td>0</td>\n",
       "      <td>90000</td>\n",
       "      <td>34</td>\n",
       "      <td>29239</td>\n",
       "      <td>14027</td>\n",
       "      <td>13559</td>\n",
       "      <td>14331</td>\n",
       "      <td>14948</td>\n",
       "      <td>15549</td>\n",
       "      <td>1518</td>\n",
       "      <td>1500</td>\n",
       "      <td>1000</td>\n",
       "      <td>1000</td>\n",
       "      <td>1000</td>\n",
       "      <td>5000</td>\n",
       "      <td>0.324878</td>\n",
       "      <td>0.155856</td>\n",
       "      <td>0.150656</td>\n",
       "      <td>0.159233</td>\n",
       "      <td>0.166089</td>\n",
       "      <td>0.172767</td>\n",
       "      <td>0.308011</td>\n",
       "      <td>0.139189</td>\n",
       "      <td>0.139544</td>\n",
       "      <td>0.148122</td>\n",
       "      <td>0.154978</td>\n",
       "      <td>0.117211</td>\n",
       "      <td>1</td>\n",
       "      <td>1</td>\n",
       "      <td>0</td>\n",
       "      <td>0</td>\n",
       "      <td>0</td>\n",
       "      <td>1</td>\n",
       "      <td>0</td>\n",
       "      <td>0</td>\n",
       "      <td>1</td>\n",
       "      <td>0</td>\n",
       "      <td>0</td>\n",
       "      <td>0</td>\n",
       "      <td>0</td>\n",
       "      <td>0</td>\n",
       "      <td>0</td>\n",
       "      <td>0</td>\n",
       "      <td>0</td>\n",
       "      <td>0</td>\n",
       "      <td>1</td>\n",
       "      <td>0</td>\n",
       "      <td>0</td>\n",
       "      <td>0</td>\n",
       "      <td>0</td>\n",
       "      <td>0</td>\n",
       "      <td>0</td>\n",
       "      <td>0</td>\n",
       "      <td>0</td>\n",
       "      <td>0</td>\n",
       "      <td>1</td>\n",
       "      <td>0</td>\n",
       "      <td>0</td>\n",
       "      <td>0</td>\n",
       "      <td>0</td>\n",
       "      <td>0</td>\n",
       "      <td>0</td>\n",
       "      <td>0</td>\n",
       "      <td>0</td>\n",
       "      <td>0</td>\n",
       "      <td>1</td>\n",
       "      <td>0</td>\n",
       "      <td>0</td>\n",
       "      <td>0</td>\n",
       "      <td>0</td>\n",
       "      <td>0</td>\n",
       "      <td>0</td>\n",
       "      <td>0</td>\n",
       "      <td>0</td>\n",
       "      <td>0</td>\n",
       "      <td>1</td>\n",
       "      <td>0</td>\n",
       "      <td>0</td>\n",
       "      <td>0</td>\n",
       "      <td>0</td>\n",
       "      <td>0</td>\n",
       "      <td>0</td>\n",
       "      <td>0</td>\n",
       "      <td>0</td>\n",
       "      <td>1</td>\n",
       "      <td>0</td>\n",
       "      <td>0</td>\n",
       "      <td>0</td>\n",
       "      <td>0</td>\n",
       "      <td>0</td>\n",
       "      <td>0</td>\n",
       "      <td>0</td>\n",
       "    </tr>\n",
       "    <tr>\n",
       "      <th>4</th>\n",
       "      <td>0</td>\n",
       "      <td>50000</td>\n",
       "      <td>37</td>\n",
       "      <td>46990</td>\n",
       "      <td>48233</td>\n",
       "      <td>49291</td>\n",
       "      <td>28314</td>\n",
       "      <td>28959</td>\n",
       "      <td>29547</td>\n",
       "      <td>2000</td>\n",
       "      <td>2019</td>\n",
       "      <td>1200</td>\n",
       "      <td>1100</td>\n",
       "      <td>1069</td>\n",
       "      <td>1000</td>\n",
       "      <td>0.939800</td>\n",
       "      <td>0.964660</td>\n",
       "      <td>0.985820</td>\n",
       "      <td>0.566280</td>\n",
       "      <td>0.579180</td>\n",
       "      <td>0.590940</td>\n",
       "      <td>0.899800</td>\n",
       "      <td>0.924280</td>\n",
       "      <td>0.961820</td>\n",
       "      <td>0.544280</td>\n",
       "      <td>0.557800</td>\n",
       "      <td>0.570940</td>\n",
       "      <td>1</td>\n",
       "      <td>1</td>\n",
       "      <td>0</td>\n",
       "      <td>0</td>\n",
       "      <td>1</td>\n",
       "      <td>0</td>\n",
       "      <td>0</td>\n",
       "      <td>0</td>\n",
       "      <td>1</td>\n",
       "      <td>0</td>\n",
       "      <td>0</td>\n",
       "      <td>0</td>\n",
       "      <td>0</td>\n",
       "      <td>0</td>\n",
       "      <td>0</td>\n",
       "      <td>0</td>\n",
       "      <td>0</td>\n",
       "      <td>0</td>\n",
       "      <td>1</td>\n",
       "      <td>0</td>\n",
       "      <td>0</td>\n",
       "      <td>0</td>\n",
       "      <td>0</td>\n",
       "      <td>0</td>\n",
       "      <td>0</td>\n",
       "      <td>0</td>\n",
       "      <td>0</td>\n",
       "      <td>0</td>\n",
       "      <td>1</td>\n",
       "      <td>0</td>\n",
       "      <td>0</td>\n",
       "      <td>0</td>\n",
       "      <td>0</td>\n",
       "      <td>0</td>\n",
       "      <td>0</td>\n",
       "      <td>0</td>\n",
       "      <td>0</td>\n",
       "      <td>0</td>\n",
       "      <td>1</td>\n",
       "      <td>0</td>\n",
       "      <td>0</td>\n",
       "      <td>0</td>\n",
       "      <td>0</td>\n",
       "      <td>0</td>\n",
       "      <td>0</td>\n",
       "      <td>0</td>\n",
       "      <td>0</td>\n",
       "      <td>0</td>\n",
       "      <td>1</td>\n",
       "      <td>0</td>\n",
       "      <td>0</td>\n",
       "      <td>0</td>\n",
       "      <td>0</td>\n",
       "      <td>0</td>\n",
       "      <td>0</td>\n",
       "      <td>0</td>\n",
       "      <td>0</td>\n",
       "      <td>1</td>\n",
       "      <td>0</td>\n",
       "      <td>0</td>\n",
       "      <td>0</td>\n",
       "      <td>0</td>\n",
       "      <td>0</td>\n",
       "      <td>0</td>\n",
       "      <td>0</td>\n",
       "    </tr>\n",
       "    <tr>\n",
       "      <th>5</th>\n",
       "      <td>0</td>\n",
       "      <td>50000</td>\n",
       "      <td>57</td>\n",
       "      <td>8617</td>\n",
       "      <td>5670</td>\n",
       "      <td>35835</td>\n",
       "      <td>20940</td>\n",
       "      <td>19146</td>\n",
       "      <td>19131</td>\n",
       "      <td>2000</td>\n",
       "      <td>36681</td>\n",
       "      <td>10000</td>\n",
       "      <td>9000</td>\n",
       "      <td>689</td>\n",
       "      <td>679</td>\n",
       "      <td>0.172340</td>\n",
       "      <td>0.113400</td>\n",
       "      <td>0.716700</td>\n",
       "      <td>0.418800</td>\n",
       "      <td>0.382920</td>\n",
       "      <td>0.382620</td>\n",
       "      <td>0.132340</td>\n",
       "      <td>-0.620220</td>\n",
       "      <td>0.516700</td>\n",
       "      <td>0.238800</td>\n",
       "      <td>0.369140</td>\n",
       "      <td>0.369040</td>\n",
       "      <td>0</td>\n",
       "      <td>1</td>\n",
       "      <td>0</td>\n",
       "      <td>0</td>\n",
       "      <td>1</td>\n",
       "      <td>0</td>\n",
       "      <td>0</td>\n",
       "      <td>0</td>\n",
       "      <td>0</td>\n",
       "      <td>0</td>\n",
       "      <td>0</td>\n",
       "      <td>0</td>\n",
       "      <td>0</td>\n",
       "      <td>0</td>\n",
       "      <td>0</td>\n",
       "      <td>0</td>\n",
       "      <td>0</td>\n",
       "      <td>0</td>\n",
       "      <td>1</td>\n",
       "      <td>0</td>\n",
       "      <td>0</td>\n",
       "      <td>0</td>\n",
       "      <td>0</td>\n",
       "      <td>0</td>\n",
       "      <td>0</td>\n",
       "      <td>0</td>\n",
       "      <td>0</td>\n",
       "      <td>0</td>\n",
       "      <td>0</td>\n",
       "      <td>0</td>\n",
       "      <td>0</td>\n",
       "      <td>0</td>\n",
       "      <td>0</td>\n",
       "      <td>0</td>\n",
       "      <td>0</td>\n",
       "      <td>0</td>\n",
       "      <td>0</td>\n",
       "      <td>0</td>\n",
       "      <td>1</td>\n",
       "      <td>0</td>\n",
       "      <td>0</td>\n",
       "      <td>0</td>\n",
       "      <td>0</td>\n",
       "      <td>0</td>\n",
       "      <td>0</td>\n",
       "      <td>0</td>\n",
       "      <td>0</td>\n",
       "      <td>0</td>\n",
       "      <td>1</td>\n",
       "      <td>0</td>\n",
       "      <td>0</td>\n",
       "      <td>0</td>\n",
       "      <td>0</td>\n",
       "      <td>0</td>\n",
       "      <td>0</td>\n",
       "      <td>0</td>\n",
       "      <td>0</td>\n",
       "      <td>1</td>\n",
       "      <td>0</td>\n",
       "      <td>0</td>\n",
       "      <td>0</td>\n",
       "      <td>0</td>\n",
       "      <td>0</td>\n",
       "      <td>0</td>\n",
       "      <td>0</td>\n",
       "    </tr>\n",
       "  </tbody>\n",
       "</table>\n",
       "</div>"
      ],
      "text/plain": [
       "    y  limit_bal  age  bill_amt1  bill_amt2  bill_amt3  bill_amt4  bill_amt5  \\\n",
       "ID                                                                             \n",
       "1   1      20000   24       3913       3102        689          0          0   \n",
       "2   1     120000   26       2682       1725       2682       3272       3455   \n",
       "3   0      90000   34      29239      14027      13559      14331      14948   \n",
       "4   0      50000   37      46990      48233      49291      28314      28959   \n",
       "5   0      50000   57       8617       5670      35835      20940      19146   \n",
       "\n",
       "    bill_amt6  pay_amt1  pay_amt2  pay_amt3  pay_amt4  pay_amt5  pay_amt6  \\\n",
       "ID                                                                          \n",
       "1           0         0       689         0         0         0         0   \n",
       "2        3261         0      1000      1000      1000         0      2000   \n",
       "3       15549      1518      1500      1000      1000      1000      5000   \n",
       "4       29547      2000      2019      1200      1100      1069      1000   \n",
       "5       19131      2000     36681     10000      9000       689       679   \n",
       "\n",
       "    bl_ratio_1  bl_ratio_2  bl_ratio_3  bl_ratio_4  bl_ratio_5  bl_ratio_6  \\\n",
       "ID                                                                           \n",
       "1     0.195650    0.155100    0.034450    0.000000    0.000000    0.000000   \n",
       "2     0.022350    0.014375    0.022350    0.027267    0.028792    0.027175   \n",
       "3     0.324878    0.155856    0.150656    0.159233    0.166089    0.172767   \n",
       "4     0.939800    0.964660    0.985820    0.566280    0.579180    0.590940   \n",
       "5     0.172340    0.113400    0.716700    0.418800    0.382920    0.382620   \n",
       "\n",
       "    blpl_ratio_1  blpl_ratio_2  blpl_ratio_3  blpl_ratio_4  blpl_ratio_5  \\\n",
       "ID                                                                         \n",
       "1       0.195650      0.120650      0.034450      0.000000      0.000000   \n",
       "2       0.022350      0.006042      0.014017      0.018933      0.028792   \n",
       "3       0.308011      0.139189      0.139544      0.148122      0.154978   \n",
       "4       0.899800      0.924280      0.961820      0.544280      0.557800   \n",
       "5       0.132340     -0.620220      0.516700      0.238800      0.369140   \n",
       "\n",
       "    blpl_ratio_6  sex_2  edu_2  edu_3  edu_4  marriage_1  marriage_2  \\\n",
       "ID                                                                     \n",
       "1       0.000000      1      1      0      0           1           0   \n",
       "2       0.010508      1      1      0      0           0           1   \n",
       "3       0.117211      1      1      0      0           0           1   \n",
       "4       0.570940      1      1      0      0           1           0   \n",
       "5       0.369040      0      1      0      0           1           0   \n",
       "\n",
       "    marriage_3  pay_1_-2  pay_1_0  pay_1_1  pay_1_2  pay_1_3  pay_1_4  \\\n",
       "ID                                                                      \n",
       "1            0         0        0        0        1        0        0   \n",
       "2            0         0        0        0        0        0        0   \n",
       "3            0         0        1        0        0        0        0   \n",
       "4            0         0        1        0        0        0        0   \n",
       "5            0         0        0        0        0        0        0   \n",
       "\n",
       "    pay_1_5  pay_1_6  pay_1_7  pay_1_8  pay_2_-2  pay_2_0  pay_2_1  pay_2_2  \\\n",
       "ID                                                                            \n",
       "1         0        0        0        0         0        0        0        1   \n",
       "2         0        0        0        0         0        0        0        1   \n",
       "3         0        0        0        0         0        1        0        0   \n",
       "4         0        0        0        0         0        1        0        0   \n",
       "5         0        0        0        0         0        1        0        0   \n",
       "\n",
       "    pay_2_3  pay_2_4  pay_2_5  pay_2_6  pay_2_7  pay_2_8  pay_3_-2  pay_3_0  \\\n",
       "ID                                                                            \n",
       "1         0        0        0        0        0        0         0        0   \n",
       "2         0        0        0        0        0        0         0        1   \n",
       "3         0        0        0        0        0        0         0        1   \n",
       "4         0        0        0        0        0        0         0        1   \n",
       "5         0        0        0        0        0        0         0        0   \n",
       "\n",
       "    pay_3_1  pay_3_2  pay_3_3  pay_3_4  pay_3_5  pay_3_6  pay_3_7  pay_3_8  \\\n",
       "ID                                                                           \n",
       "1         0        0        0        0        0        0        0        0   \n",
       "2         0        0        0        0        0        0        0        0   \n",
       "3         0        0        0        0        0        0        0        0   \n",
       "4         0        0        0        0        0        0        0        0   \n",
       "5         0        0        0        0        0        0        0        0   \n",
       "\n",
       "    pay_4_-2  pay_4_0  pay_4_1  pay_4_2  pay_4_3  pay_4_4  pay_4_5  pay_4_6  \\\n",
       "ID                                                                            \n",
       "1          0        0        0        0        0        0        0        0   \n",
       "2          0        1        0        0        0        0        0        0   \n",
       "3          0        1        0        0        0        0        0        0   \n",
       "4          0        1        0        0        0        0        0        0   \n",
       "5          0        1        0        0        0        0        0        0   \n",
       "\n",
       "    pay_4_7  pay_4_8  pay_5_-2  pay_5_0  pay_5_2  pay_5_3  pay_5_4  pay_5_5  \\\n",
       "ID                                                                            \n",
       "1         0        0         1        0        0        0        0        0   \n",
       "2         0        0         0        1        0        0        0        0   \n",
       "3         0        0         0        1        0        0        0        0   \n",
       "4         0        0         0        1        0        0        0        0   \n",
       "5         0        0         0        1        0        0        0        0   \n",
       "\n",
       "    pay_5_6  pay_5_7  pay_5_8  pay_6_-2  pay_6_0  pay_6_2  pay_6_3  pay_6_4  \\\n",
       "ID                                                                            \n",
       "1         0        0        0         1        0        0        0        0   \n",
       "2         0        0        0         0        0        1        0        0   \n",
       "3         0        0        0         0        1        0        0        0   \n",
       "4         0        0        0         0        1        0        0        0   \n",
       "5         0        0        0         0        1        0        0        0   \n",
       "\n",
       "    pay_6_5  pay_6_6  pay_6_7  pay_6_8  \n",
       "ID                                      \n",
       "1         0        0        0        0  \n",
       "2         0        0        0        0  \n",
       "3         0        0        0        0  \n",
       "4         0        0        0        0  \n",
       "5         0        0        0        0  "
      ]
     },
     "execution_count": 5,
     "metadata": {},
     "output_type": "execute_result"
    }
   ],
   "source": [
    "# Read in the processed credit card client default data set.\n",
    "df = pd.read_csv(processed_data_file, \n",
    "                           index_col=0)\n",
    "\n",
    "df.head()"
   ]
  },
  {
   "cell_type": "markdown",
   "metadata": {},
   "source": [
    "### Train test split"
   ]
  },
  {
   "cell_type": "code",
   "execution_count": 6,
   "metadata": {
    "collapsed": true
   },
   "outputs": [],
   "source": [
    "# Extract X and y from df\n",
    "X = df.drop('y', axis=1).values\n",
    "#y = df[['y']].values\n",
    "y = df['y'].values\n",
    "\n",
    "# Train test split\n",
    "X_train, X_test, y_train, y_test = \\\n",
    "    train_test_split(X, y, test_size=0.3, random_state=42)"
   ]
  },
  {
   "cell_type": "code",
   "execution_count": 7,
   "metadata": {
    "collapsed": true
   },
   "outputs": [],
   "source": [
    "# Define a function`namestr` to access the name of a variable\n",
    "def namestr(obj, namespace):\n",
    "    return [name for name in namespace if namespace[name] is obj][0]"
   ]
  },
  {
   "cell_type": "code",
   "execution_count": 8,
   "metadata": {},
   "outputs": [
    {
     "name": "stdout",
     "output_type": "stream",
     "text": [
      "X shape:\t (30000, 91)\n",
      "y shape:\t (30000,)\n",
      "X_train shape:\t (15000, 91)\n",
      "X_test shape:\t (15000, 91)\n",
      "y_train shape:\t (15000,)\n",
      "y_test shape:\t (15000,)\n"
     ]
    }
   ],
   "source": [
    "# Print the shape of X, y, X_train, X_test, y_train, and y_test\n",
    "for var in [X, y, X_train, X_test, y_train, y_test]:\n",
    "    print(namestr(var, globals()), \n",
    "          'shape:\\t',\n",
    "          var.shape)"
   ]
  },
  {
   "cell_type": "markdown",
   "metadata": {},
   "source": [
    "### Make pipeline"
   ]
  },
  {
   "cell_type": "code",
   "execution_count": 65,
   "metadata": {
    "collapsed": true
   },
   "outputs": [],
   "source": [
    "df_X = df.drop('y', axis=1)"
   ]
  },
  {
   "cell_type": "code",
   "execution_count": 66,
   "metadata": {
    "collapsed": true
   },
   "outputs": [],
   "source": [
    "def create_binary_feature_list(df=df_X,  \n",
    "                               return_binary_features=True):\n",
    "    \"\"\"\n",
    "    Docstring ...\n",
    "    \"\"\"\n",
    "    # Create boolean maskDrop the column with the target values\n",
    "    binary_mask = df.isin([0, 1]).all()\n",
    "    \n",
    "    # If return_binary_features=True,\n",
    "    # create a list of the binary features.\n",
    "    # If return_binary_features=False,\n",
    "    # create a list of the nonbinary features.    \n",
    "    features_list = list(binary_mask[binary_mask == \\\n",
    "                                     return_binary_features].index)\n",
    "\n",
    "    return features_list"
   ]
  },
  {
   "cell_type": "code",
   "execution_count": 67,
   "metadata": {
    "collapsed": true
   },
   "outputs": [],
   "source": [
    "def binary_feature_index_list(df=df_X, \n",
    "                              features_list=None):\n",
    "    \"\"\"\n",
    "    Docstring ...\n",
    "    \"\"\"\n",
    "    \n",
    "    feature_index_list = [df.columns.get_loc(c) for c  \\\n",
    "                          in df.columns if c in features_list]    \n",
    "    \n",
    "    return feature_index_list"
   ]
  },
  {
   "cell_type": "code",
   "execution_count": 68,
   "metadata": {
    "collapsed": true
   },
   "outputs": [],
   "source": [
    "binary_features = create_binary_feature_list(df=df_X, \n",
    "                                             return_binary_features=True)\n",
    "\n",
    "non_binary_features = create_binary_feature_list(df=df_X,  \n",
    "                                                 return_binary_features=False)\n",
    "\n",
    "binary_index_list = \\\n",
    "    binary_feature_index_list(df=df_X, \n",
    "                              features_list=binary_features)\n",
    "\n",
    "non_binary_index_list = \\\n",
    "    binary_feature_index_list(df=df_X, \n",
    "                              features_list=non_binary_features)"
   ]
  },
  {
   "cell_type": "code",
   "execution_count": 69,
   "metadata": {
    "scrolled": false
   },
   "outputs": [
    {
     "name": "stdout",
     "output_type": "stream",
     "text": [
      "Binary features:\n",
      "\n",
      "26: sex_2                                   27: edu_2                                   28: edu_3                                   29: edu_4                                   30: marriage_1                              31: marriage_2                              32: marriage_3                              33: pay_1_-2                                34: pay_1_0                                 35: pay_1_1                                 36: pay_1_2                                 37: pay_1_3                                 38: pay_1_4                                 39: pay_1_5                                 40: pay_1_6                                 41: pay_1_7                                 42: pay_1_8                                 43: pay_2_-2                                44: pay_2_0                                 45: pay_2_1                                 46: pay_2_2                                 47: pay_2_3                                 48: pay_2_4                                 49: pay_2_5                                 50: pay_2_6                                 51: pay_2_7                                 52: pay_2_8                                 53: pay_3_-2                                54: pay_3_0                                 55: pay_3_1                                 56: pay_3_2                                 57: pay_3_3                                 58: pay_3_4                                 59: pay_3_5                                 60: pay_3_6                                 61: pay_3_7                                 62: pay_3_8                                 63: pay_4_-2                                64: pay_4_0                                 65: pay_4_1                                 66: pay_4_2                                 67: pay_4_3                                 68: pay_4_4                                 69: pay_4_5                                 70: pay_4_6                                 71: pay_4_7                                 72: pay_4_8                                 73: pay_5_-2                                74: pay_5_0                                 75: pay_5_2                                 76: pay_5_3                                 77: pay_5_4                                 78: pay_5_5                                 79: pay_5_6                                 80: pay_5_7                                 81: pay_5_8                                 82: pay_6_-2                                83: pay_6_0                                 84: pay_6_2                                 85: pay_6_3                                 86: pay_6_4                                 87: pay_6_5                                 88: pay_6_6                                 89: pay_6_7                                 90: pay_6_8                                 \n",
      "\n",
      "\n",
      "Non-binary features:\n",
      "\n",
      "0 : limit_bal                               1 : age                                     2 : bill_amt1                               3 : bill_amt2                               4 : bill_amt3                               5 : bill_amt4                               6 : bill_amt5                               7 : bill_amt6                               8 : pay_amt1                                9 : pay_amt2                                10: pay_amt3                                11: pay_amt4                                12: pay_amt5                                13: pay_amt6                                14: bl_ratio_1                              15: bl_ratio_2                              16: bl_ratio_3                              17: bl_ratio_4                              18: bl_ratio_5                              19: bl_ratio_6                              20: blpl_ratio_1                            21: blpl_ratio_2                            22: blpl_ratio_3                            23: blpl_ratio_4                            24: blpl_ratio_5                            25: blpl_ratio_6                            \n"
     ]
    }
   ],
   "source": [
    "print('Binary features:\\n')\n",
    "print(''.join('{:2s}: {:40s}'.format(str(i), col) \\\n",
    "              for i, col in zip(binary_index_list,\n",
    "                                binary_features)))\n",
    "print('\\n')\n",
    "\n",
    "print('Non-binary features:\\n')\n",
    "print(''.join('{:2s}: {:40s}'.format(str(i), col) \\\n",
    "              for i, col in zip(non_binary_index_list,\n",
    "                                non_binary_features)))"
   ]
  },
  {
   "cell_type": "markdown",
   "metadata": {},
   "source": [
    "#### User defined preprocessors"
   ]
  },
  {
   "cell_type": "code",
   "execution_count": 70,
   "metadata": {
    "collapsed": true
   },
   "outputs": [],
   "source": [
    "class NonBinary_PCA(BaseEstimator, TransformerMixin): \n",
    "    def __init__(self):\n",
    "        self.scaler = PCA(n_components=None, random_state=42)\n",
    "\n",
    "    # Fit PCA only on the non-binary features\n",
    "    def fit(self, X, y):\n",
    "        self.scaler.fit(X[:, non_binary_index_list], y)\n",
    "        return self\n",
    "\n",
    "    # Transform only the non-binary features with PCA\n",
    "    def transform(self, X):\n",
    "        X_non_binary = \\\n",
    "            self.scaler.transform(X[:, non_binary_index_list])\n",
    "\n",
    "        X_recombined = X_non_binary\n",
    "\n",
    "        binary_index_list.sort()\n",
    "        for col in binary_index_list:\n",
    "            X_recombined = np.insert(X_recombined, \n",
    "                                     col,\n",
    "                                     X[:, col], \n",
    "                                     1)\n",
    "        return X_recombined"
   ]
  },
  {
   "cell_type": "code",
   "execution_count": 71,
   "metadata": {
    "collapsed": true
   },
   "outputs": [],
   "source": [
    "class NonBinary_RobustScaler(BaseEstimator, TransformerMixin): \n",
    "    def __init__(self):\n",
    "        self.scaler = RobustScaler()\n",
    "\n",
    "    # Fit RobustScaler only on the non-binary features\n",
    "    def fit(self, X, y):\n",
    "        self.scaler.fit(X[:, non_binary_index_list], y)\n",
    "        return self\n",
    "\n",
    "    # Transform only the non-binary features with RobustScaler\n",
    "    def transform(self, X):\n",
    "        X_non_binary = \\\n",
    "            self.scaler.transform(X[:, non_binary_index_list])\n",
    "\n",
    "        X_recombined = X_non_binary\n",
    "\n",
    "        binary_index_list.sort()\n",
    "        for col in binary_index_list:\n",
    "            X_recombined = np.insert(X_recombined, \n",
    "                                     col,\n",
    "                                     X[:, col], \n",
    "                                     1)\n",
    "        return X_recombined"
   ]
  },
  {
   "cell_type": "code",
   "execution_count": 72,
   "metadata": {
    "collapsed": true
   },
   "outputs": [],
   "source": [
    "class NonBinary_StandardScaler(BaseEstimator, TransformerMixin): \n",
    "    def __init__(self):\n",
    "        self.scaler = StandardScaler()\n",
    "\n",
    "    # Fit StandardScaler only on the non-binary features\n",
    "    def fit(self, X, y):\n",
    "        self.scaler.fit(X[:, non_binary_index_list], y)\n",
    "        return self\n",
    "\n",
    "    # Transform only the non-binary features with StandardScaler\n",
    "    def transform(self, X):\n",
    "        X_non_binary = \\\n",
    "            self.scaler.transform(X[:, non_binary_index_list])\n",
    "\n",
    "        X_recombined = X_non_binary\n",
    "\n",
    "        binary_index_list.sort()\n",
    "        for col in binary_index_list:\n",
    "            X_recombined = np.insert(X_recombined, \n",
    "                                     col,\n",
    "                                     X[:, col], \n",
    "                                     1)\n",
    "        return X_recombined"
   ]
  },
  {
   "cell_type": "code",
   "execution_count": 73,
   "metadata": {
    "collapsed": true
   },
   "outputs": [],
   "source": [
    "class NonBinary_MinMaxScaler(BaseEstimator, TransformerMixin): \n",
    "    def __init__(self):\n",
    "        self.scaler = MinMaxScaler()\n",
    "\n",
    "    # Fit MinMaxScaler only on the non-binary features\n",
    "    def fit(self, X, y):\n",
    "        self.scaler.fit(X[:, non_binary_index_list], y)\n",
    "        return self\n",
    "\n",
    "    # Transform only the non-binary features with MinMaxScaler\n",
    "    def transform(self, X):\n",
    "        X_non_binary = \\\n",
    "            self.scaler.transform(X[:, non_binary_index_list])\n",
    "\n",
    "        X_recombined = X_non_binary\n",
    "\n",
    "        binary_index_list.sort()\n",
    "        for col in binary_index_list:\n",
    "            X_recombined = np.insert(X_recombined, \n",
    "                                     col,\n",
    "                                     X[:, col], \n",
    "                                     1)\n",
    "        return X_recombined"
   ]
  },
  {
   "cell_type": "markdown",
   "metadata": {},
   "source": [
    "#### Define the pipeline"
   ]
  },
  {
   "cell_type": "code",
   "execution_count": 75,
   "metadata": {
    "collapsed": true
   },
   "outputs": [],
   "source": [
    "# Set a high threshold for removing near-zero variance features\n",
    "#thresh_prob = 0.999\n",
    "thresh_prob = 0.99\n",
    "threshold = (thresh_prob * (1 - thresh_prob))\n",
    "\n",
    "# Create pipeline\n",
    "pipe = Pipeline([('preprocessing_1', VarianceThreshold(threshold)), \n",
    "                 ('preprocessing_2', None), \n",
    "                 ('preprocessing_3', None), \n",
    "                 ('classifier', DummyClassifier(strategy='most_frequent',\n",
    "                                                random_state=42))])\n",
    "\n",
    "# Create parameter grid\n",
    "param_grid = [\n",
    "    {'classifier': [LogisticRegression(random_state=42)],\n",
    "     'preprocessing_1': [None, NonBinary_RobustScaler()],\n",
    "     'preprocessing_2': [None, NonBinary_PCA()],\n",
    "     'preprocessing_3': [None, VarianceThreshold(threshold)], \n",
    "     'classifier__C': [0.01, 0.1],\n",
    "     'classifier__penalty': ['l1','l2']},\n",
    "\n",
    "    \n",
    "    {'classifier': [XGBClassifier(objective='binary:logistic', n_estimators=1000)], \n",
    "     'preprocessing_1': [None, VarianceThreshold(threshold)], \n",
    "     'preprocessing_2': [None],\n",
    "     'preprocessing_3': [None],\n",
    "     'classifier__n_estimators': [1000],\n",
    "     'classifier__learning_rate': [0.01, 0.1],\n",
    "     'classifier__gamma': [0.01, 0.1],\n",
    "     'classifier__max_depth': [3, 4],\n",
    "     'classifier__min_child_weight': [1, 3],\n",
    "     'classifier__subsample': [0.8],\n",
    "#     'classifier__colsample_bytree': [0.8, 1.0],\n",
    "     'classifier__reg_lambda': [0.1, 1.0],\n",
    "     'classifier__reg_alpha': [0, 0.1]}]\n"
   ]
  },
  {
   "cell_type": "code",
   "execution_count": 76,
   "metadata": {
    "collapsed": true
   },
   "outputs": [],
   "source": [
    "# Set the number of cores to be used\n",
    "cores_used = cpu_count() - 1\n",
    "cores_used\n",
    "cores_used = 1"
   ]
  },
  {
   "cell_type": "code",
   "execution_count": 19,
   "metadata": {},
   "outputs": [
    {
     "name": "stdout",
     "output_type": "stream",
     "text": [
      "Fitting 5 folds for each of 72 candidates, totalling 360 fits\n"
     ]
    },
    {
     "name": "stderr",
     "output_type": "stream",
     "text": [
      "[Parallel(n_jobs=1)]: Done 360 out of 360 | elapsed: 117.7min finished\n"
     ]
    },
    {
     "name": "stdout",
     "output_type": "stream",
     "text": [
      "Best params:\n",
      "{'classifier': XGBClassifier(base_score=0.5, colsample_bylevel=1, colsample_bytree=1,\n",
      "       gamma=0.01, learning_rate=0.01, max_delta_step=0, max_depth=4,\n",
      "       min_child_weight=3, missing=None, n_estimators=1000, nthread=-1,\n",
      "       objective='binary:logistic', reg_alpha=0.1, reg_lambda=1.0,\n",
      "       scale_pos_weight=1, seed=0, silent=True, subsample=0.8), 'classifier__gamma': 0.01, 'classifier__learning_rate': 0.01, 'classifier__max_depth': 4, 'classifier__min_child_weight': 3, 'classifier__n_estimators': 1000, 'classifier__reg_alpha': 0.1, 'classifier__reg_lambda': 1.0, 'classifier__subsample': 0.8, 'preprocessing_1': VarianceThreshold(threshold=0.000999000000000001), 'preprocessing_2': None, 'preprocessing_3': None}\n",
      "\n",
      "Best cross-validation score: 0.79\n"
     ]
    }
   ],
   "source": [
    "# Set verbosity\n",
    "verbosity = 1\n",
    "\n",
    "# Execute Grid search\n",
    "grid = GridSearchCV(pipe, param_grid, cv=5, scoring='roc_auc',\n",
    "                    verbose=verbosity, n_jobs=cores_used)\n",
    "\n",
    "grid.fit(X_train, y_train)\n",
    "\n",
    "print(\"Best params:\\n{}\\n\".format(grid.best_params_))\n",
    "print(\"Best cross-validation score: {:.2f}\".format(grid.best_score_))"
   ]
  },
  {
   "cell_type": "markdown",
   "metadata": {},
   "source": [
    "#### Save the grid search object as a pickle file"
   ]
  },
  {
   "cell_type": "code",
   "execution_count": 22,
   "metadata": {
    "collapsed": true
   },
   "outputs": [],
   "source": [
    "# Save path to the `models` folder\n",
    "models_folder = os.path.join(proj_root,\n",
    "                             \"models\")"
   ]
  },
  {
   "cell_type": "code",
   "execution_count": 21,
   "metadata": {},
   "outputs": [
    {
     "data": {
      "text/plain": [
       "['../models/gridsearch_pickle.pkl']"
      ]
     },
     "execution_count": 21,
     "metadata": {},
     "output_type": "execute_result"
    }
   ],
   "source": [
    "# full_gridsearch_file_name = 'gridsearch_pickle_20171029.pkl'\n",
    "full_gridsearch_file_name = 'gridsearch_pickle.pkl'\n",
    "\n",
    "full_gridsearch_path = os.path.join(models_folder,\n",
    "                                    full_gridsearch_file_name)\n",
    "\n",
    "joblib.dump(grid, full_gridsearch_path)"
   ]
  },
  {
   "cell_type": "code",
   "execution_count": 22,
   "metadata": {},
   "outputs": [
    {
     "data": {
      "text/plain": [
       "['../models/pipeline_pickle.pkl']"
      ]
     },
     "execution_count": 22,
     "metadata": {},
     "output_type": "execute_result"
    }
   ],
   "source": [
    "# best_pipeline_file_name = 'pipeline_pickle_20171029.pkl'\n",
    "best_pipeline_file_name = 'pipeline_pickle.pkl'\n",
    "\n",
    "best_pipeline_path = os.path.join(models_folder, \n",
    "                                  best_pipeline_file_name)\n",
    "\n",
    "joblib.dump(grid.best_estimator_, best_pipeline_path)"
   ]
  },
  {
   "cell_type": "markdown",
   "metadata": {},
   "source": [
    "### Grid search for best *logistic regression* model"
   ]
  },
  {
   "cell_type": "code",
   "execution_count": 77,
   "metadata": {},
   "outputs": [
    {
     "name": "stdout",
     "output_type": "stream",
     "text": [
      "Fitting 5 folds for each of 36 candidates, totalling 180 fits\n"
     ]
    },
    {
     "name": "stderr",
     "output_type": "stream",
     "text": [
      "[Parallel(n_jobs=1)]: Done 180 out of 180 | elapsed:  5.9min finished\n"
     ]
    },
    {
     "name": "stdout",
     "output_type": "stream",
     "text": [
      "Best logistic regression params:\n",
      "{'classifier': LogisticRegression(C=0.1, class_weight=None, dual=False, fit_intercept=True,\n",
      "          intercept_scaling=1, max_iter=100, multi_class='ovr', n_jobs=1,\n",
      "          penalty='l2', random_state=42, solver='liblinear', tol=0.0001,\n",
      "          verbose=0, warm_start=False), 'classifier__C': 0.1, 'classifier__penalty': 'l2', 'preprocessing_1': None, 'preprocessing_2': NonBinary_RobustScaler(), 'preprocessing_3': None}\n",
      "\n",
      "Best cross-validated logistic regression score: 0.77\n"
     ]
    },
    {
     "data": {
      "text/plain": [
       "['../models/best_logreg_pipeline_pickle.pkl']"
      ]
     },
     "execution_count": 77,
     "metadata": {},
     "output_type": "execute_result"
    }
   ],
   "source": [
    "# Create parameter grid\n",
    "param_grid = [\n",
    "    {'classifier': [LogisticRegression(random_state=42)],\n",
    "     'preprocessing_1': [None], # [VarianceThreshold(threshold)], \n",
    "     'preprocessing_2': [NonBinary_RobustScaler()],\n",
    "     'preprocessing_3': [None, NonBinary_PCA(), VarianceThreshold(threshold)],\n",
    "     'classifier__C': [0.001, 0.01, 0.1, 1, 10, 100],\n",
    "     'classifier__penalty': ['l1','l2']}]\n",
    "\n",
    " \n",
    "# Set the number of cores to be used\n",
    "cores_used = cpu_count() - 1\n",
    "cores_used\n",
    "cores_used = 1\n",
    "\n",
    "\n",
    "# Set verbosity\n",
    "verbosity = 1\n",
    "\n",
    "# Execute Grid search\n",
    "logreg_grid = GridSearchCV(pipe, param_grid, cv=5, scoring='roc_auc',\n",
    "                    verbose=verbosity, n_jobs=cores_used)\n",
    "\n",
    "logreg_grid.fit(X_train, y_train)\n",
    "\n",
    "print(\"Best logistic regression params:\\n{}\\n\".format(logreg_grid.best_params_))\n",
    "print(\"Best cross-validated logistic regression score: {:.2f}\".format(logreg_grid.best_score_))\n",
    "\n",
    "\n",
    "# Save the grid search object as a pickle file\n",
    "\n",
    "models_folder = os.path.join(proj_root,\n",
    "                             \"models\")\n",
    "\n",
    "logreg_gridsearch_file_name = 'logreg_gridsearch_pickle.pkl'\n",
    "\n",
    "logreg_gridsearch_path = os.path.join(models_folder,logreg_gridsearch_file_name)\n",
    "\n",
    "joblib.dump(logreg_grid, logreg_gridsearch_path)\n",
    "\n",
    "\n",
    "best_logreg_pipeline_file_name = 'best_logreg_pipeline_pickle.pkl'\n",
    "\n",
    "best_logreg_pipeline_path = os.path.join(models_folder, \n",
    "                                         best_logreg_pipeline_file_name)\n",
    "\n",
    "joblib.dump(logreg_grid.best_estimator_, best_logreg_pipeline_path)\n"
   ]
  },
  {
   "cell_type": "markdown",
   "metadata": {},
   "source": [
    "#### Read in the best pipeline"
   ]
  },
  {
   "cell_type": "code",
   "execution_count": 78,
   "metadata": {
    "collapsed": true
   },
   "outputs": [],
   "source": [
    "# best_pipeline_file_name = 'pipeline_pickle_20171029.pkl'\n",
    "best_pipeline_file_name = 'pipeline_pickle.pkl'\n",
    "\n",
    "best_pipeline_path = os.path.join(models_folder, \n",
    "                                  best_pipeline_file_name)"
   ]
  },
  {
   "cell_type": "code",
   "execution_count": 79,
   "metadata": {
    "collapsed": true
   },
   "outputs": [],
   "source": [
    "clf = joblib.load(best_pipeline_path) "
   ]
  },
  {
   "cell_type": "markdown",
   "metadata": {},
   "source": [
    "#### Read in the best logistic regression pipeline"
   ]
  },
  {
   "cell_type": "code",
   "execution_count": 80,
   "metadata": {
    "collapsed": true
   },
   "outputs": [],
   "source": [
    "best_logreg_pipeline_file_name = 'best_logreg_pipeline_pickle.pkl'\n",
    "\n",
    "best_logreg_pipeline_path = os.path.join(models_folder, \n",
    "                                         best_logreg_pipeline_file_name)"
   ]
  },
  {
   "cell_type": "code",
   "execution_count": 81,
   "metadata": {
    "collapsed": true
   },
   "outputs": [],
   "source": [
    "logreg_clf = joblib.load(best_logreg_pipeline_path) "
   ]
  },
  {
   "cell_type": "markdown",
   "metadata": {},
   "source": [
    "#### Check AUC scores"
   ]
  },
  {
   "cell_type": "code",
   "execution_count": 82,
   "metadata": {
    "collapsed": true,
    "scrolled": true
   },
   "outputs": [],
   "source": [
    "cross_val_results = cross_val_score(clf, \n",
    "                                    X_train,\n",
    "                                    y_train,\n",
    "                                    scoring=\"roc_auc\", \n",
    "                                    cv=5, \n",
    "                                    n_jobs=1)"
   ]
  },
  {
   "cell_type": "code",
   "execution_count": 83,
   "metadata": {},
   "outputs": [
    {
     "name": "stdout",
     "output_type": "stream",
     "text": [
      "Best pipeline:\n",
      "Mean Cross validation AUC:\n",
      "0.783\n",
      "\n"
     ]
    }
   ],
   "source": [
    "results_mean = np.mean(cross_val_results)\n",
    "print(\"Best pipeline:\")\n",
    "print(\"Mean Cross validation AUC:\\n{:.3f}\\n\".format(results_mean))"
   ]
  },
  {
   "cell_type": "code",
   "execution_count": 84,
   "metadata": {
    "collapsed": true
   },
   "outputs": [],
   "source": [
    "cross_val_results_logreg = cross_val_score(logreg_clf, \n",
    "                                           X_train,\n",
    "                                           y_train,\n",
    "                                           scoring=\"roc_auc\", \n",
    "                                           cv=5, \n",
    "                                           n_jobs=1)"
   ]
  },
  {
   "cell_type": "code",
   "execution_count": 85,
   "metadata": {},
   "outputs": [
    {
     "name": "stdout",
     "output_type": "stream",
     "text": [
      "Best logistic regression pipeline:\n",
      "Mean Cross validation AUC:\n",
      "0.767\n",
      "\n"
     ]
    }
   ],
   "source": [
    "results_mean_logreg = np.mean(cross_val_results_logreg)\n",
    "print(\"Best logistic regression pipeline:\")\n",
    "print(\"Mean Cross validation AUC:\\n{:.3f}\\n\".format(results_mean_logreg))"
   ]
  },
  {
   "cell_type": "markdown",
   "metadata": {},
   "source": [
    "    Best logistic regression pipeline:\n",
    "    Mean Cross validation AUC:\n",
    "    0.771\n",
    "\n"
   ]
  },
  {
   "cell_type": "code",
   "execution_count": 34,
   "metadata": {},
   "outputs": [
    {
     "data": {
      "text/plain": [
       "Pipeline(memory=None,\n",
       "     steps=[('preprocessing_1', VarianceThreshold(threshold=0.000999000000000001)), ('preprocessing_2', None), ('preprocessing_3', None), ('classifier', XGBClassifier(base_score=0.5, colsample_bylevel=1, colsample_bytree=1,\n",
       "       gamma=0.01, learning_rate=0.01, max_delta_step=0, max_depth=4,\n",
       "       min_child_weight=3, missing=nan, n_estimators=1000, nthread=-1,\n",
       "       objective='binary:logistic', reg_alpha=0.1, reg_lambda=1.0,\n",
       "       scale_pos_weight=1, seed=0, silent=True, subsample=0.8))])"
      ]
     },
     "execution_count": 34,
     "metadata": {},
     "output_type": "execute_result"
    }
   ],
   "source": [
    "clf.fit(X_train, y_train)"
   ]
  },
  {
   "cell_type": "code",
   "execution_count": 35,
   "metadata": {},
   "outputs": [
    {
     "name": "stdout",
     "output_type": "stream",
     "text": [
      "Train AUC:\n",
      "0.8296736219553531\n",
      "\n"
     ]
    }
   ],
   "source": [
    "auc_train = roc_auc_score(y_train, clf.predict_proba(X_train)[:,1])\n",
    "\n",
    "print(\"Train AUC:\\n{:.3f}\\n\".format(auc_train))"
   ]
  },
  {
   "cell_type": "code",
   "execution_count": 36,
   "metadata": {},
   "outputs": [
    {
     "name": "stdout",
     "output_type": "stream",
     "text": [
      "Test AUC:\n",
      "0.779934342685386\n",
      "\n"
     ]
    }
   ],
   "source": [
    "auc_test = roc_auc_score(y_test, clf.predict_proba(X_test)[:,1])\n",
    "\n",
    "print(\"Test AUC:\\n{:.3f}\\n\".format(auc_test))"
   ]
  },
  {
   "cell_type": "code",
   "execution_count": 32,
   "metadata": {
    "collapsed": true
   },
   "outputs": [],
   "source": [
    "dummy_clf = DummyClassifier(strategy='most_frequent',\n",
    "                                    random_state=42)"
   ]
  },
  {
   "cell_type": "code",
   "execution_count": 33,
   "metadata": {},
   "outputs": [
    {
     "data": {
      "text/plain": [
       "DummyClassifier(constant=None, random_state=42, strategy='most_frequent')"
      ]
     },
     "execution_count": 33,
     "metadata": {},
     "output_type": "execute_result"
    }
   ],
   "source": [
    "dummy_clf.fit(X_train, y_train)"
   ]
  },
  {
   "cell_type": "code",
   "execution_count": 34,
   "metadata": {},
   "outputs": [
    {
     "name": "stdout",
     "output_type": "stream",
     "text": [
      "Dummy Train AUC:\n",
      "0.500\n",
      "\n"
     ]
    }
   ],
   "source": [
    "dummy_auc_train = roc_auc_score(y_train, \n",
    "                                dummy_clf.predict_proba(X_train)[:,1])\n",
    "\n",
    "print(\"Dummy Train AUC:\\n{:.3f}\\n\".format(dummy_auc_train))"
   ]
  },
  {
   "cell_type": "code",
   "execution_count": 35,
   "metadata": {},
   "outputs": [
    {
     "name": "stdout",
     "output_type": "stream",
     "text": [
      "Dummy Test AUC:\n",
      "0.500\n",
      "\n"
     ]
    }
   ],
   "source": [
    "dummy_auc_test = roc_auc_score(y_test, \n",
    "                                dummy_clf.predict_proba(X_test)[:,1])\n",
    "\n",
    "print(\"Dummy Test AUC:\\n{:.3f}\\n\".format(dummy_auc_test))"
   ]
  },
  {
   "cell_type": "markdown",
   "metadata": {},
   "source": [
    "#### Plot the Receiver Operating Characteristic Curves"
   ]
  },
  {
   "cell_type": "code",
   "execution_count": 57,
   "metadata": {},
   "outputs": [
    {
     "data": {
      "image/png": "[encoded data removed]",
      "text/plain": [
       "<matplotlib.figure.Figure at 0x114ecdc18>"
      ]
     },
     "metadata": {},
     "output_type": "display_data"
    }
   ],
   "source": [
    "probs = clf.predict_proba(X_test)\n",
    "preds = probs[:,1]\n",
    "fpr, tpr, threshold = roc_curve(y_test, preds)\n",
    "#roc_auc = auc(fpr, tpr)\n",
    "roc_auc = roc_auc_score(y_test, preds)\n",
    "plt.plot(fpr, tpr, 'b', label = 'XGBoost Test AUC = %0.3f' % roc_auc)\n",
    "\n",
    "probs = logreg_clf.predict_proba(X_test)\n",
    "preds = probs[:,1]\n",
    "fpr, tpr, threshold = roc_curve(y_test, preds)\n",
    "#roc_auc = auc(fpr, tpr)\n",
    "roc_auc = roc_auc_score(y_test, preds)\n",
    "plt.plot(fpr, tpr, 'g', label = 'Logistic Regression\\nTest AUC = %0.3f' % roc_auc)\n",
    "\n",
    "#plt.plot([0, 1], [0, 1],'k',  label = 'Baseline AUC = 0.500' )\n",
    "\n",
    "probs = dummy_clf.predict_proba(X_test)\n",
    "preds = probs[:,1]\n",
    "fpr, tpr, threshold = roc_curve(y_test, preds)\n",
    "#roc_auc = auc(fpr, tpr)\n",
    "roc_auc = roc_auc_score(y_test, preds)\n",
    "plt.plot(fpr, tpr, 'r--', label = 'Dummy Model AUC = %0.3f' % roc_auc)\n",
    "\n",
    "plt.title('Receiver Operating Characteristic')\n",
    "plt.legend(loc = 'lower right')\n",
    "plt.xlim([0, 1])\n",
    "plt.ylim([0, 1])\n",
    "plt.ylabel('True Positive Rate')\n",
    "plt.xlabel('False Positive Rate')\n",
    "\n",
    "# figure file_name\n",
    "fig_file_name = 'roc_curve'\n",
    "\n",
    "# figure file_path\n",
    "fig_path = os.path.join(figures_dir,\n",
    "                        fig_file_name)\n",
    "\n",
    "# Save the figure\n",
    "plt.savefig(fig_path, dpi = 300)"
   ]
  },
  {
   "cell_type": "code",
   "execution_count": 41,
   "metadata": {},
   "outputs": [
    {
     "data": {
      "text/plain": [
       "<matplotlib.text.Text at 0x10d7b47f0>"
      ]
     },
     "execution_count": 41,
     "metadata": {},
     "output_type": "execute_result"
    },
    {
     "data": {
      "image/png": "[encoded data removed]",
      "text/plain": [
       "<matplotlib.figure.Figure at 0x10d7a44a8>"
      ]
     },
     "metadata": {},
     "output_type": "display_data"
    }
   ],
   "source": [
    "plt.plot([0, 1], [0, 1],'k',  label = 'Baseline AUC = 0.50' )\n",
    "\n",
    "probs = clf.predict_proba(X_train)\n",
    "preds = probs[:,1]\n",
    "fpr, tpr, threshold = roc_curve(y_train, preds)\n",
    "#roc_auc = auc(fpr, tpr)\n",
    "roc_auc = roc_auc_score(y_train, preds)\n",
    "plt.plot(fpr, tpr, 'b', label = 'Train AUC = %0.2f' % roc_auc)\n",
    "\n",
    "probs = clf.predict_proba(X_test)\n",
    "preds = probs[:,1]\n",
    "fpr, tpr, threshold = roc_curve(y_test, preds)\n",
    "#roc_auc = auc(fpr, tpr)\n",
    "roc_auc = roc_auc_score(y_test, preds)\n",
    "plt.plot(fpr, tpr, 'g', label = 'Test AUC = %0.2f' % roc_auc)\n",
    "\n",
    "probs = dummy_clf.predict_proba(X_test)\n",
    "preds = probs[:,1]\n",
    "fpr, tpr, threshold = roc_curve(y_test, preds)\n",
    "#roc_auc = auc(fpr, tpr)\n",
    "roc_auc = roc_auc_score(y_test, preds)\n",
    "plt.plot(fpr, tpr, 'r--', label = 'Dummy Model AUC = %0.2f' % roc_auc)\n",
    "\n",
    "plt.title('Receiver Operating Characteristic')\n",
    "plt.legend(loc = 'lower right')\n",
    "plt.xlim([0, 1])\n",
    "plt.ylim([0, 1])\n",
    "plt.ylabel('True Positive Rate')\n",
    "plt.xlabel('False Positive Rate')\n",
    "plt.savefig('roc_curve.png', dpi = 300)"
   ]
  },
  {
   "cell_type": "markdown",
   "metadata": {},
   "source": [
    "#### Check accuracy scores"
   ]
  },
  {
   "cell_type": "code",
   "execution_count": 42,
   "metadata": {},
   "outputs": [
    {
     "name": "stderr",
     "output_type": "stream",
     "text": [
      "[Parallel(n_jobs=1)]: Done   5 out of   5 | elapsed:  2.8min finished\n"
     ]
    }
   ],
   "source": [
    "cross_val_accuracy = cross_val_score(clf, \n",
    "                                    X_train,\n",
    "                                    y_train,\n",
    "                                    scoring=\"accuracy\", \n",
    "                                    cv=5, \n",
    "                                    n_jobs=1, \n",
    "                                    verbose=1)"
   ]
  },
  {
   "cell_type": "code",
   "execution_count": 43,
   "metadata": {},
   "outputs": [
    {
     "name": "stdout",
     "output_type": "stream",
     "text": [
      "Mean Cross validation accuracy:\n",
      "0.8203109890150833\n",
      "\n"
     ]
    }
   ],
   "source": [
    "accuracy_mean = np.mean(cross_val_accuracy)\n",
    "\n",
    "print(\"Mean Cross validation accuracy:\\n{:.3f}\\n\".format(accuracy_mean))"
   ]
  },
  {
   "cell_type": "code",
   "execution_count": 44,
   "metadata": {
    "collapsed": true
   },
   "outputs": [],
   "source": [
    "dummy_cross_val_accuracy = cross_val_score(dummy_clf, \n",
    "                                          X_train,\n",
    "                                          y_train,\n",
    "                                          scoring=\"accuracy\", \n",
    "                                          cv=5, \n",
    "                                          n_jobs=1)"
   ]
  },
  {
   "cell_type": "code",
   "execution_count": 45,
   "metadata": {},
   "outputs": [
    {
     "name": "stdout",
     "output_type": "stream",
     "text": [
      "Baseline accuracy:\n",
      "0.7773777832581621\n",
      "\n"
     ]
    }
   ],
   "source": [
    "dummy_accuracy_mean = np.mean(dummy_cross_val_accuracy)\n",
    "\n",
    "print(\"Baseline accuracy:\\n{:.3f}\\n\".format(dummy_accuracy_mean))"
   ]
  },
  {
   "cell_type": "code",
   "execution_count": 197,
   "metadata": {},
   "outputs": [
    {
     "name": "stdout",
     "output_type": "stream",
     "text": [
      "Train Accuracy:\n",
      "0.833\n",
      "\n",
      "Train Error Rate:\n",
      "0.167\n",
      "\n"
     ]
    }
   ],
   "source": [
    "accuracy_train = accuracy_score(y_train, \n",
    "                               clf.predict(X_train))\n",
    "\n",
    "print(\"Train Accuracy:\\n{:.3f}\\n\".format(accuracy_train))\n",
    "\n",
    "print(\"Train Error Rate:\\n{:.3f}\\n\".format(1 - accuracy_train))"
   ]
  },
  {
   "cell_type": "code",
   "execution_count": 198,
   "metadata": {},
   "outputs": [
    {
     "name": "stdout",
     "output_type": "stream",
     "text": [
      "Test Accuracy:\n",
      "0.821\n",
      "\n",
      "Test Error Rate:\n",
      "0.179\n",
      "\n"
     ]
    }
   ],
   "source": [
    "accuracy_test = accuracy_score(y_test, \n",
    "                               clf.predict(X_test))\n",
    "\n",
    "print(\"Test Accuracy:\\n{:.3f}\\n\".format(accuracy_test))\n",
    "\n",
    "print(\"Test Error Rate:\\n{:.3f}\\n\".format(1 - accuracy_test))\n",
    "\n"
   ]
  },
  {
   "cell_type": "markdown",
   "metadata": {},
   "source": [
    "### Save the trained model object as a pickle file"
   ]
  },
  {
   "cell_type": "code",
   "execution_count": 46,
   "metadata": {},
   "outputs": [
    {
     "data": {
      "text/plain": [
       "Pipeline(memory=None,\n",
       "     steps=[('preprocessing_1', VarianceThreshold(threshold=0.000999000000000001)), ('preprocessing_2', None), ('preprocessing_3', None), ('classifier', XGBClassifier(base_score=0.5, colsample_bylevel=1, colsample_bytree=1,\n",
       "       gamma=0.01, learning_rate=0.01, max_delta_step=0, max_depth=4,\n",
       "       min_child_weight=3, missing=nan, n_estimators=1000, nthread=-1,\n",
       "       objective='binary:logistic', reg_alpha=0.1, reg_lambda=1.0,\n",
       "       scale_pos_weight=1, seed=0, silent=True, subsample=0.8))])"
      ]
     },
     "execution_count": 46,
     "metadata": {},
     "output_type": "execute_result"
    }
   ],
   "source": [
    "clf.fit(X_train, y_train)"
   ]
  },
  {
   "cell_type": "code",
   "execution_count": 47,
   "metadata": {},
   "outputs": [
    {
     "data": {
      "text/plain": [
       "['../models/trained_model.pkl']"
      ]
     },
     "execution_count": 47,
     "metadata": {},
     "output_type": "execute_result"
    }
   ],
   "source": [
    "# trained_model = 'trained_model_20171029.pkl'\n",
    "trained_model = 'trained_model.pkl'\n",
    "\n",
    "trained_model_path = os.path.join(models_folder,\n",
    "                                  trained_model)\n",
    "\n",
    "joblib.dump(clf, trained_model_path)"
   ]
  },
  {
   "cell_type": "markdown",
   "metadata": {},
   "source": [
    "# Load trained model"
   ]
  },
  {
   "cell_type": "code",
   "execution_count": 9,
   "metadata": {
    "collapsed": true
   },
   "outputs": [],
   "source": [
    "\n",
    "# Save path to the `models` folder\n",
    "models_folder = os.path.join(proj_root,\n",
    "                             \"models\")\n",
    "\n",
    "trained_model = 'trained_model.pkl'\n",
    "\n",
    "trained_model_path = os.path.join(models_folder,\n",
    "                                  trained_model)\n",
    "\n",
    "clf = joblib.load(trained_model_path) "
   ]
  },
  {
   "cell_type": "code",
   "execution_count": 10,
   "metadata": {},
   "outputs": [
    {
     "data": {
      "text/plain": [
       "Pipeline(memory=None,\n",
       "     steps=[('preprocessing_1', VarianceThreshold(threshold=0.000999000000000001)), ('preprocessing_2', None), ('preprocessing_3', None), ('classifier', XGBClassifier(base_score=0.5, colsample_bylevel=1, colsample_bytree=1,\n",
       "       gamma=0.01, learning_rate=0.01, max_delta_step=0, max_depth=4,\n",
       "       min_child_weight=3, missing=nan, n_estimators=1000, nthread=-1,\n",
       "       objective='binary:logistic', reg_alpha=0.1, reg_lambda=1.0,\n",
       "       scale_pos_weight=1, seed=0, silent=True, subsample=0.8))])"
      ]
     },
     "execution_count": 10,
     "metadata": {},
     "output_type": "execute_result"
    }
   ],
   "source": [
    "clf"
   ]
  },
  {
   "cell_type": "markdown",
   "metadata": {},
   "source": [
    "# Lift Charts"
   ]
  },
  {
   "cell_type": "code",
   "execution_count": 11,
   "metadata": {
    "collapsed": true
   },
   "outputs": [],
   "source": [
    "def lift_chart_area_ratio(clf, X, y):\n",
    "    \"\"\"\n",
    "    \n",
    "    \n",
    "    \n",
    "    \"\"\"\n",
    "\n",
    "    # Create an array of classification thresholds \n",
    "    # ranging from 0 to 1.  \n",
    "    thresholds = np.arange(0.0, 1.0001, 0.0001)[np.newaxis, :]\n",
    "\n",
    "    true_actual = (y == 1)[:, np.newaxis]\n",
    "    false_actual = (y != 1)[:, np.newaxis]\n",
    "\n",
    "    predicted_probabilities = clf.predict_proba(X)[:,1][:, np.newaxis]\n",
    "    predicted_true = np.greater(predicted_probabilities, thresholds)\n",
    "\n",
    "    tp = true_actual * predicted_true\n",
    "    fp = false_actual * predicted_true\n",
    "\n",
    "    true_positive_count = np.sum(tp, axis=0)\n",
    "    false_positive_count = np.sum(fp, axis=0)\n",
    "    total = true_positive_count + false_positive_count\n",
    "    # Theoretically best curve\n",
    "    tp_best = np.clip(total, 0, np.max(true_positive_count))\n",
    "\n",
    "\n",
    "    #Calculate area ratio\n",
    "    area_best = np.abs(np.trapz(tp_best, total))\n",
    "\n",
    "    area_model = np.abs(np.trapz(true_positive_count, total))\n",
    "\n",
    "    area_baseline = np.max(total) * np.max(true_positive_count) / 2\n",
    "\n",
    "    area_ratio = (area_model - area_baseline) / \\\n",
    "                    (area_best - area_baseline) \n",
    "\n",
    "    return area_ratio, true_positive_count, total, tp_best"
   ]
  },
  {
   "cell_type": "code",
   "execution_count": 12,
   "metadata": {
    "collapsed": true
   },
   "outputs": [],
   "source": [
    "def plot_lift_chart(total, \n",
    "                    true_positive_count, \n",
    "                    tp_best, \n",
    "                    title,\n",
    "                    fname):\n",
    "    \"\"\"\n",
    "    \n",
    "    \n",
    "    \n",
    "    \"\"\"\n",
    "    \n",
    "    plt.plot(total, \n",
    "             true_positive_count, \n",
    "             'r', \n",
    "             label = 'Model Curve')\n",
    "\n",
    "    plt.plot(total, \n",
    "             tp_best, \n",
    "             'b', \n",
    "             label = 'Theoretically Best Curve')\n",
    "\n",
    "    plt.plot([0, np.max(total)], \n",
    "             [0, np.max(true_positive_count)],\n",
    "             'k',  \n",
    "             label = 'Baseline Curve' )\n",
    "\n",
    "    plt.title(title)\n",
    "    plt.legend(loc = 'lower right')\n",
    "    plt.xlim(xmin=0)\n",
    "    plt.ylim(ymin=0)\n",
    "    plt.ylabel('True Positives')\n",
    "    plt.xlabel('True Positives + False Positives')\n",
    "    plt.savefig(fname, dpi = 300)    "
   ]
  },
  {
   "cell_type": "markdown",
   "metadata": {},
   "source": [
    "#### Train Set Lift Chart Area Ratio "
   ]
  },
  {
   "cell_type": "code",
   "execution_count": 14,
   "metadata": {},
   "outputs": [
    {
     "name": "stdout",
     "output_type": "stream",
     "text": [
      "Area ratio:\t 0.653\n"
     ]
    },
    {
     "data": {
      "image/png": "[encoded data removed]",
      "text/plain": [
       "<matplotlib.figure.Figure at 0x10fee7a20>"
      ]
     },
     "metadata": {},
     "output_type": "display_data"
    }
   ],
   "source": [
    "area_ratio_train, true_positive_count_train, \\\n",
    "    total_train, tp_best_train = \\\n",
    "    lift_chart_area_ratio(clf, X_train, y_train)\n",
    "    \n",
    "title = 'Lift Chart - Training Set\\n' + \\\n",
    "        '(Area Ratio = {:.3f})'.format(area_ratio_train)\n",
    "    \n",
    "# figure file_name\n",
    "fig_file_name = 'lift_chart_train'\n",
    "\n",
    "# figure file_path\n",
    "fig_path = os.path.join(figures_dir,\n",
    "                        fig_file_name)\n",
    "\n",
    "plot_lift_chart(total_train, \n",
    "                true_positive_count_train, \n",
    "                tp_best_train, \n",
    "                title,\n",
    "                fig_path)\n",
    "\n",
    "print(\"Area ratio:\\t\",\n",
    "      \"{:.3f}\".format(area_ratio_train))"
   ]
  },
  {
   "cell_type": "code",
   "execution_count": 15,
   "metadata": {},
   "outputs": [
    {
     "name": "stdout",
     "output_type": "stream",
     "text": [
      "Area ratio:\t 0.616\n"
     ]
    },
    {
     "data": {
      "image/png": "[encoded data removed]",
      "text/plain": [
       "<matplotlib.figure.Figure at 0x111ce36d8>"
      ]
     },
     "metadata": {},
     "output_type": "display_data"
    }
   ],
   "source": [
    "area_ratio_test, true_positive_count_test, \\\n",
    "    total_test, tp_best_test = \\\n",
    "    lift_chart_area_ratio(clf, X_test, y_test)\n",
    "    \n",
    "title = 'Lift Chart - Test Set\\n' + \\\n",
    "        '(Area Ratio = {:.3f})'.format(area_ratio_test)\n",
    "    \n",
    "# figure file_name\n",
    "fig_file_name = 'lift_chart_test'\n",
    "\n",
    "# figure file_path\n",
    "fig_path = os.path.join(figures_dir,\n",
    "                        fig_file_name)\n",
    "\n",
    "plot_lift_chart(total_test, \n",
    "                true_positive_count_test, \n",
    "                tp_best_test, \n",
    "                title,\n",
    "                fig_path)\n",
    "\n",
    "print(\"Area ratio:\\t\",\n",
    "      \"{:.3f}\".format(area_ratio_test))"
   ]
  }
 ],
 "metadata": {
  "kernelspec": {
   "display_name": "Python 3",
   "language": "python",
   "name": "python3"
  },
  "language_info": {
   "codemirror_mode": {
    "name": "ipython",
    "version": 3
   },
   "file_extension": ".py",
   "mimetype": "text/x-python",
   "name": "python",
   "nbconvert_exporter": "python",
   "pygments_lexer": "ipython3",
   "version": "3.6.7"
  }
 },
 "nbformat": 4,
 "nbformat_minor": 2
}
